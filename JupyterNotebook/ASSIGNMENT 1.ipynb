{
 "cells": [
  {
   "cell_type": "code",
   "execution_count": null,
   "id": "808cb92f",
   "metadata": {},
   "outputs": [],
   "source": [
    "from together import Together\n",
    "import os\n",
    "import pandas as pd\n",
    "import time\n",
    "import random\n",
    "import openpyxl"
   ]
  },
  {
   "cell_type": "code",
   "execution_count": 2,
   "id": "459dab7a",
   "metadata": {},
   "outputs": [],
   "source": [
    "# Set Together.ai API key\n",
    "os.environ[\"TOGETHER_API_KEY\"] = \"1632b35fa57aafc7c7f13ab5646fd11eae703fa02c129b8d6fee999b0f8b79b6\"\n",
    "client = Together()"
   ]
  },
  {
   "cell_type": "code",
   "execution_count": 3,
   "id": "98f7b7b4",
   "metadata": {},
   "outputs": [],
   "source": [
    "# User details\n",
    "names = [\n",
    "    \"Aarav\", \"Aryan\", \"Bhavya\", \"Bodhi\", \"Chirayu\", \"Chetan\", \"Dev\", \"Dhruv\",\n",
    "\"Emil\", \"Eshan\", \"Farhan\", \"Gaurav\", \"Girish\", \"Himansh\", \"Harshil\", \"Ishan\",\n",
    "\"Ivansh\", \"Jaidev\", \"Jatin\", \"Kartik\", \"Keshav\", \"Kiaan\", \"Karan\", \"Laksh\",\n",
    "\"Mithun\", \"Moksh\", \"Maanav\", \"Nirav\", \"Neeraj\", \"Nikhil\", \"Omkar\", \"Oviya\",\n",
    "\"Parth\", \"Pratham\", \"Rudra\", \"Reyansh\", \"Rishi\", \"Samar\", \"Shreyas\", \"Siddharth\",\n",
    "\"Tanish\", \"Tejas\", \"Ujjwal\", \"Utkarsh\", \"Ved\", \"Vivaan\", \"Vyom\", \"Yug\",\n",
    "\"Yashwant\", \"Zayan\", \"Aarohi\", \"Anika\", \"Bhumi\", \"Binal\", \"Charita\", \"Chhaya\", \"Divya\", \"Diti\",\n",
    "\"Esha\", \"Eshita\", \"Falak\", \"Garima\", \"Geet\", \"Hansa\", \"Himani\", \"Ira\",\n",
    "\"Ishita\", \"Janvi\", \"Karishma\", \"Kavya\", \"Lavanya\", \"Leela\", \"Madhavi\",\n",
    "\"Meghna\", \"Neha\", \"Namya\", \"Naina\", \"Ojaswini\", \"Omisha\", \"Pankhuri\",\n",
    "\"Priya\", \"Ritika\", \"Riya\", \"Simran\", \"Swara\", \"Tanvi\", \"Trupti\",\n",
    "\"Urvashi\", \"Vaidehi\", \"Vedika\", \"Vrinda\", \"Yamini\", \"Yukti\", \"Zaina\", \"Zara\"\n",
    "]\n",
    "\n",
    "last_names = [\n",
    "    \"Acharya\", \"Agarwal\", \"Ahluwalia\", \"Bajpai\", \"Banerjee\", \"Bansal\", \"Bhat\", \"Bhattacharya\",\n",
    "\"Chatterjee\", \"Chopra\", \"Desai\", \"Dey\", \"Dhawan\", \"Dubey\", \"Dwivedi\", \"Ganguly\",\n",
    "\"Ghosh\", \"Goel\", \"Gopal\", \"Gupta\", \"Iyer\", \"Jain\", \"Joshi\", \"Kadam\",\n",
    "\"Kapoor\", \"Kashyap\", \"Kaur\", \"Khanna\", \"Kulkarni\", \"Lal\", \"Malhotra\", \"Mehta\",\n",
    "\"Menon\", \"Mishra\", \"Mukherjee\", \"Naidu\", \"Nair\", \"Nambiar\", \"Nanda\", \"Pandey\",\n",
    "\"Patel\", \"Pillai\", \"Prasad\", \"Rajan\", \"Rajput\", \"Rana\", \"Rao\", \"Reddy\",\n",
    "\"Saha\", \"Saini\", \"Saxena\", \"Sen\", \"Shah\", \"Sharma\", \"Shetty\", \"Siddiqui\",\n",
    "\"Sinha\", \"Singh\", \"Sodhi\", \"Subramanian\", \"Tandon\", \"Tiwari\", \"Tripathi\", \"Upadhyay\",\n",
    "\"Varma\", \"Venkatesh\", \"Verma\", \"Vora\", \"Yadav\", \"Zaveri\", \"Acharya\", \"Agnihotri\",\n",
    "\"Bagchi\", \"Bhansali\", \"Chhabra\", \"Choudhary\", \"Dayal\", \"Dixit\", \"Ganesh\", \"Haridas\"\n",
    "]\n",
    "\n",
    "languages_known = [\"English\", \"Hindi\", \"Telugu\", \"Urdu\", \"French\", \"Tamil\"]"
   ]
  },
  {
   "cell_type": "code",
   "execution_count": 4,
   "id": "7add42bf",
   "metadata": {},
   "outputs": [],
   "source": [
    "designations = {\n",
    "    \"Data Scientist\": {\n",
    "        \"skills\": [\"Machine Learning\", \"Statistics\", \"Data Visualization\", \"Big Data\", \"Programming (Python, R)\"],\n",
    "        \"domains\": [\"Healthcare\", \"Finance\", \"Retail\"]\n",
    "    },\n",
    "    \"Software Engineer\": {\n",
    "        \"skills\": [\"Software Development\", \"Algorithms and Data Structures\", \"Version Control (Git)\", \"Database Management\", \"Web Development\"],\n",
    "        \"domains\": [\"E-commerce\", \"Banking\", \"Education\"]\n",
    "    },\n",
    "    \"Data Engineer\": {\n",
    "        \"skills\": [\"Data Warehousing\", \"ETL Processes\", \"Big Data Technologies (Hadoop, Spark)\", \"Database Administration\", \"Cloud Services (AWS, Azure)\"],\n",
    "        \"domains\": [\"Logistics\", \"Finance\", \"Healthcare\"]\n",
    "    },\n",
    "    \"UI Designer\": {\n",
    "        \"skills\": [\"User Experience (UX) Design\", \"Prototyping\", \"Graphic Design\", \"Interaction Design\", \"Front-End Development (HTML, CSS, JavaScript)\"],\n",
    "        \"domains\": [\"Gaming\", \"Retail\", \"Media\"]\n",
    "    },\n",
    "    \"Data Analyst\": {\n",
    "        \"skills\": [\"Data Visualization\", \"SQL\", \"Statistics\", \"Excel/Spreadsheet Analysis\", \"Business Intelligence (BI) Tools\"],\n",
    "        \"domains\": [\"Marketing\", \"Finance\", \"Healthcare\"]\n",
    "    },\n",
    "    \"Product Manager\": {\n",
    "        \"skills\": [\"Product Strategy\", \"Project Management\", \"Market Research\", \"Agile Methodologies\", \"Stakeholder Communication\"],\n",
    "        \"domains\": [\"Technology\", \"Retail\", \"Finance\"]\n",
    "    }\n",
    "}"
   ]
  },
  {
   "cell_type": "code",
   "execution_count": 5,
   "id": "94cc7400",
   "metadata": {},
   "outputs": [],
   "source": [
    "# Experience levels and work environments\n",
    "experience_levels = [\"Entry-level\", \"Mid-level\", \"Senior-level\", \"Lead\", \"Director\"]\n",
    "work_environments = [\"Remote\", \"Hybrid\", \"On-site\"]"
   ]
  },
  {
   "cell_type": "code",
   "execution_count": 6,
   "id": "f0ebc631",
   "metadata": {},
   "outputs": [],
   "source": [
    "# Predefined reasoning sets\n",
    "select_reasons = [\n",
    "    \"Demonstrated strong skills relevant to the role. The candidate has shown a solid grasp of the necessary skills for the job, with practical experience that aligns well with the role's requirements.\",\n",
    "    \"Exhibited excellent problem-solving abilities. The candidate has successfully tackled complex challenges in their past roles, indicating a strong aptitude for finding solutions efficiently and effectively.\",\n",
    "    \"Showed great enthusiasm and potential for growth. The candidate displayed a high level of interest in learning and improving, suggesting that they are eager to develop their skills and take on new responsibilities.\",\n",
    "    \"Had impressive experience and qualifications. The candidate brings a wealth of experience and relevant qualifications that demonstrate their readiness to take on the role immediately.\",\n",
    "    \"Communicated ideas clearly and effectively. The candidate is able to articulate their thoughts and ideas concisely and professionally, making them an effective communicator in both written and verbal formats.\"\n",
    "]\n",
    "\n",
    "reject_reasons = [\n",
    "    \"Lacked key technical skills for the role. The candidate did not possess the essential technical skills required for the position, which could hinder their performance if hired.\",\n",
    "    \"Demonstrated limited understanding of job requirements. The candidate's grasp of the role's demands was inadequate, suggesting they may struggle to meet the expectations of the job.\",\n",
    "    \"Had insufficient experience for the position. The candidate did not have enough relevant experience to confidently perform the job duties effectively.\",\n",
    "    \"Struggled to effectively communicate ideas. The candidate had difficulty expressing their ideas clearly, which could lead to miscommunication in the workplace.\",\n",
    "    \"Needed improvement in problem-solving skills. The candidate demonstrated a need for further development in critical thinking and problem-solving, which could impact their ability to handle challenges effectively.\"\n",
    "]"
   ]
  },
  {
   "cell_type": "code",
   "execution_count": 7,
   "id": "bdb3695b",
   "metadata": {},
   "outputs": [],
   "source": [
    "# Function to generate a text response based on the given prompt\n",
    "def generate_text(prompt):\n",
    "    response = client.chat.completions.create(\n",
    "        model=\"meta-llama/Llama-Vision-Free\",\n",
    "        messages=[{\"role\": \"user\", \"content\": f\":{prompt}\"}],\n",
    "    )\n",
    "    return response.choices[0].message.content\n",
    "\n",
    "\n",
    "# Generating data for the table\n",
    "data = []\n",
    "for i in range(500):  # Adjust the range to generate more candidates\n",
    "    id_formatted = f\"ayush{i+1:04d}\"  \n",
    "    name = random.choice(names)\n",
    "    last_name = random.choice(last_names)\n",
    "    full_name = f\"{name} {last_name}\"\n",
    "\n",
    "    designation = random.choice(list(designations.keys()))\n",
    "    expected_experience = random.choice([\"0-2 years\", \"3-5 years\", \"6-8 years\", \"9+ years\"])\n",
    "    domains_needed = \", \".join(designations[designation][\"domains\"])\n",
    "    job_description = f\"Expected_experience : {expected_experience}, Domains: {domains_needed}\"  # job description matches the designation\n",
    "    \n"
   ]
  },
  {
   "cell_type": "code",
   "execution_count": 8,
   "id": "4f772837",
   "metadata": {},
   "outputs": [
    {
     "ename": "IndentationError",
     "evalue": "unexpected indent (3499624814.py, line 2)",
     "output_type": "error",
     "traceback": [
      "\u001b[1;36m  Input \u001b[1;32mIn [8]\u001b[1;36m\u001b[0m\n\u001b[1;33m    select_status = random.choice([\"Select\", \"Reject\"])\u001b[0m\n\u001b[1;37m    ^\u001b[0m\n\u001b[1;31mIndentationError\u001b[0m\u001b[1;31m:\u001b[0m unexpected indent\n"
     ]
    }
   ],
   "source": [
    " # Determine if the candidate should be selected or rejected\n",
    "    select_status = random.choice([\"Select\", \"Reject\"])\n",
    "\n",
    "    # Randomize experience level and work environment\n",
    "    experience_level = random.choice(experience_levels)\n",
    "    work_environment = random.choice(work_environments)\n",
    "\n",
    "    # Randomly select languages\n",
    "    selected_languages = random.sample(languages_known, k=random.randint(1, len(languages_known)))"
   ]
  },
  {
   "cell_type": "code",
   "execution_count": null,
   "id": "9f712620",
   "metadata": {},
   "outputs": [],
   "source": [
    "# Select reasons for decision\n",
    "    reasons = random.sample(\n",
    "        [\n",
    "           \"Demonstrated strong skills relevant to the role. The candidate has shown a solid grasp of the necessary skills for the job, with practical experience that aligns well with the role's requirements.\",\n",
    "           \"Exhibited excellent problem-solving abilities. The candidate has successfully tackled complex challenges in their past roles, indicating a strong aptitude for finding solutions efficiently and effectively.\",\n",
    "           \"Showed great enthusiasm and potential for growth. The candidate displayed a high level of interest in learning and improving, suggesting that they are eager to develop their skills and take on new responsibilities.\",\n",
    "           \"Had impressive experience and qualifications. The candidate brings a wealth of experience and relevant qualifications that demonstrate their readiness to take on the role immediately.\",\n",
    "           \"Communicated ideas clearly and effectively. The candidate is able to articulate their thoughts and ideas concisely and professionally, making them an effective communicator in both written and verbal formats.\"\n",
    "        ] \n",
    "        if select_status == \"Select\" else [\n",
    "            \"Lacked key technical skills for the role. The candidate did not possess the essential technical skills required for the position, which could hinder their performance if hired.\",\n",
    "            \"Demonstrated limited understanding of job requirements. The candidate's grasp of the role's demands was inadequate, suggesting they may struggle to meet the expectations of the job.\",\n",
    "            \"Had insufficient experience for the position. The candidate did not have enough relevant experience to confidently perform the job duties effectively.\",\n",
    "            \"Struggled to effectively communicate ideas. The candidate had difficulty expressing their ideas clearly, which could lead to miscommunication in the workplace.\",\n",
    "            \"Needed improvement in problem-solving skills. The candidate demonstrated a need for further development in critical thinking and problem-solving, which could impact their ability to handle challenges effectively.\"\n",
    "        ],\n",
    "    )"
   ]
  },
  {
   "cell_type": "code",
   "execution_count": null,
   "id": "77d78384",
   "metadata": {},
   "outputs": [],
   "source": [
    "# Define prompt templates for transcripts, profiles\n",
    "    prompt_templates = {\n",
    "    \"Select\": {\n",
    "        \"transcript\": (f\"Generate a positive, detailed interview transcript for candidate {full_name} interviewing for the role of {designation}. \"\n",
    "            f\"Job description: '{job_description}'. Highlight strengths such as demonstrated skills in {', '.join(designations[designation]['skills'])}, \"\n",
    "            f\"excellent problem-solving abilities, enthusiasm, and potential for growth. Emphasize their impressive experience in {domains_needed}. \"\n",
    "            f\"Do not generate generic statements like 'Here is an interview transcript for ...'.\"),\n",
    "                \"profile\":(\n",
    "            f\"Generate a positive, detailed profile for candidate {full_name} who is interviewing for the role of {designation}. \"\n",
    "            f\"Highlight their strengths, such as a solid foundation in key skills like {', '.join(designations[designation]['skills'])}, \"\n",
    "            f\"relevant domain experience in {', '.join(domains_needed)}, and enthusiasm to contribute. Mention any noteworthy achievements, \"\n",
    "            f\"such as successful projects or past roles in similar domains. Mention their potential to excel and grow within the organization. \"\n",
    "            f\"Ensure that the profile is focused on showcasing their qualifications in the context of the job description.\"\n",
    "            f\"Do not generate generic statements like 'Here is a profile for ...'.\")\n",
    "            },\n",
    "        \n",
    "    \"Reject\": {\n",
    "        \"transcript\":  (\n",
    "            f\"Generate a detailed, constructive interview transcript for candidate {full_name} interviewing for the role of {designation}. \"\n",
    "            f\"Job description: '{job_description}'. Mention areas of improvement, such as lacking key technical skills in {', '.join(designations[designation]['skills'])}, \"\n",
    "            f\"insufficient experience in the required domains, and limited understanding of job requirements. Highlight reasons like 'Struggled to communicate ideas' or 'Needed improvement in problem-solving skills'. \"\n",
    "            f\"Do not generate generic statements like 'Here is an interview transcript for ...'.\"),\n",
    "        \"profile\": (\n",
    "            f\"Generate a detailed profile for candidate {full_name} who is interviewing for the role of {designation}. \"\n",
    "            f\"Focus on areas where the candidate's skills did not align with the job requirements, such as lacking proficiency in {', '.join(designations[designation]['skills'])}, \"\n",
    "            f\"or insufficient experience in {', '.join(domains_needed)}. Mention any concerns raised during the interview, such as difficulty with certain tasks or lack of familiarity with specific tools or technologies. \"\n",
    "            f\"Despite these gaps, acknowledge their potential for growth if given further training or exposure. \"\n",
    "            f\"Ensure that the profile emphasizes constructive feedback while being respectful.\"\n",
    "            f\"Do not generate generic statements like 'Here is a profile for ...'.\")\n",
    "            }\n",
    "      }"
   ]
  },
  {
   "cell_type": "code",
   "execution_count": null,
   "id": "e5c5b0ec",
   "metadata": {},
   "outputs": [],
   "source": [
    " # Construct prompts based on the selection status\n",
    "    prompt_transcript = prompt_templates[select_status][\"transcript\"].format(name=full_name, designation=designation, job_description=\", \".join(job_description))\n",
    "    prompt_profile = prompt_templates[select_status][\"profile\"].format(name=full_name, designation=designation, job_description=\", \".join(job_description), experience_level=experience_level, work_environment=work_environment, languages_known=\", \".join(selected_languages), expected_experience=expected_experience, domains_needed=domains_needed)\n",
    "\n",
    "    # Generate the transcript and profile\n",
    "    transcript = generate_text(prompt_transcript)\n",
    "    time.sleep(5)\n",
    "    profile = generate_text(prompt_profile)\n",
    "    time.sleep(5)\n",
    "\n",
    "    # Add to dataset\n",
    "    data.append({\n",
    "        \"Id\": id_formatted,\n",
    "        \"Name\": full_name,\n",
    "        \"Role\": designation,\n",
    "        \"Transcript\": transcript,\n",
    "        \"Profile\": profile,\n",
    "        \"Select/Reject\": select_status,\n",
    "        \"Job Description\": job_description,\n",
    "        \"Reason for Decision\": \", \".join(reasons),\n",
    "    })"
   ]
  },
  {
   "cell_type": "code",
   "execution_count": null,
   "id": "023b9397",
   "metadata": {},
   "outputs": [],
   "source": [
    "# Convert to DataFrame and save as excel\n",
    "df = pd.DataFrame(data)\n",
    "print(df)\n",
    "df.to_excel(\"recruitment_data.xlsx\", index=False)"
   ]
  },
  {
   "cell_type": "code",
   "execution_count": null,
   "id": "fb9160d4",
   "metadata": {},
   "outputs": [],
   "source": []
  },
  {
   "cell_type": "code",
   "execution_count": null,
   "id": "f8f5b8fb",
   "metadata": {},
   "outputs": [],
   "source": []
  },
  {
   "cell_type": "code",
   "execution_count": null,
   "id": "4326500b",
   "metadata": {},
   "outputs": [],
   "source": []
  },
  {
   "cell_type": "code",
   "execution_count": null,
   "id": "11a974de",
   "metadata": {},
   "outputs": [],
   "source": []
  },
  {
   "cell_type": "code",
   "execution_count": null,
   "id": "0ac98698",
   "metadata": {},
   "outputs": [],
   "source": []
  },
  {
   "cell_type": "code",
   "execution_count": null,
   "id": "2378a164",
   "metadata": {},
   "outputs": [],
   "source": []
  },
  {
   "cell_type": "code",
   "execution_count": null,
   "id": "88c1786f",
   "metadata": {},
   "outputs": [],
   "source": []
  },
  {
   "cell_type": "code",
   "execution_count": null,
   "id": "95509790",
   "metadata": {},
   "outputs": [],
   "source": []
  },
  {
   "cell_type": "code",
   "execution_count": null,
   "id": "84081664",
   "metadata": {},
   "outputs": [],
   "source": []
  },
  {
   "cell_type": "code",
   "execution_count": null,
   "id": "d8d6c5d4",
   "metadata": {},
   "outputs": [],
   "source": []
  },
  {
   "cell_type": "code",
   "execution_count": null,
   "id": "7a20ccb9",
   "metadata": {},
   "outputs": [],
   "source": []
  },
  {
   "cell_type": "code",
   "execution_count": null,
   "id": "b8c8e079",
   "metadata": {},
   "outputs": [],
   "source": []
  },
  {
   "cell_type": "code",
   "execution_count": null,
   "id": "5730c2de",
   "metadata": {},
   "outputs": [],
   "source": []
  },
  {
   "cell_type": "code",
   "execution_count": null,
   "id": "553d9d05",
   "metadata": {},
   "outputs": [],
   "source": []
  }
 ],
 "metadata": {
  "kernelspec": {
   "display_name": "Python 3 (ipykernel)",
   "language": "python",
   "name": "python3"
  },
  "language_info": {
   "codemirror_mode": {
    "name": "ipython",
    "version": 3
   },
   "file_extension": ".py",
   "mimetype": "text/x-python",
   "name": "python",
   "nbconvert_exporter": "python",
   "pygments_lexer": "ipython3",
   "version": "3.9.12"
  }
 },
 "nbformat": 4,
 "nbformat_minor": 5
}
