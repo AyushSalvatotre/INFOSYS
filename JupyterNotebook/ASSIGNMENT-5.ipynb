{
 "cells": [
  {
   "cell_type": "code",
   "execution_count": 5,
   "id": "61f80474",
   "metadata": {},
   "outputs": [],
   "source": [
    "import pandas as pd\n",
    "import numpy as np\n",
    "import matplotlib.pyplot as plt \n",
    "import seaborn as sns \n",
    "from transformers import BertTokenizer, BertModel\n",
    "import torch\n",
    "from transformers import DistilBertTokenizer, DistilBertModel"
   ]
  },
  {
   "cell_type": "code",
   "execution_count": 6,
   "id": "2eb1f9dd",
   "metadata": {},
   "outputs": [],
   "source": [
    "data = pd.read_excel(\"dataset.xlsx\")"
   ]
  },
  {
   "cell_type": "code",
   "execution_count": 7,
   "id": "69a0e3db",
   "metadata": {},
   "outputs": [
    {
     "data": {
      "text/plain": [
       "Index(['Unnamed: 0.1', 'Unnamed: 0', 'ID', 'Name', 'Role', 'Transcript',\n",
       "       'Resume', 'decision', 'Reason for decision', 'Job Description',\n",
       "       'Transcript_processed', 'Resume_processed', 'Job_Description_processed',\n",
       "       'Transcript_sentiment', 'Resume_sentiment', 'JobDescription_sentiment',\n",
       "       'Transcript_words', 'Resume_words', 'Years_Experience',\n",
       "       'resume_jd_similarity', 'Transcript_jd_similarity',\n",
       "       'resume_transcript_similarity', 'resume_sentence_count',\n",
       "       'resume_avg_word_length', 'skill_match_count',\n",
       "       'university_education_count', 'transcript_vocab_diversity',\n",
       "       'transcript_avg_sentence_length', 'resume_jd_similarity_transformers',\n",
       "       'transcript_jd_similarity_transformers',\n",
       "       'transcript_resume_similarity_transformers'],\n",
       "      dtype='object')"
      ]
     },
     "execution_count": 7,
     "metadata": {},
     "output_type": "execute_result"
    }
   ],
   "source": [
    "data.columns "
   ]
  },
  {
   "cell_type": "code",
   "execution_count": 8,
   "id": "2d4f98f2",
   "metadata": {},
   "outputs": [
    {
     "data": {
      "text/plain": [
       "Index(['ID', 'Name', 'Role', 'Transcript', 'Resume', 'decision',\n",
       "       'Reason for decision', 'Job Description', 'Transcript_processed',\n",
       "       'Resume_processed', 'Job_Description_processed', 'Transcript_sentiment',\n",
       "       'Resume_sentiment', 'JobDescription_sentiment', 'Transcript_words',\n",
       "       'Resume_words', 'Years_Experience', 'resume_jd_similarity',\n",
       "       'Transcript_jd_similarity', 'resume_transcript_similarity',\n",
       "       'resume_sentence_count', 'resume_avg_word_length', 'skill_match_count',\n",
       "       'university_education_count', 'transcript_vocab_diversity',\n",
       "       'transcript_avg_sentence_length', 'resume_jd_similarity_transformers',\n",
       "       'transcript_jd_similarity_transformers',\n",
       "       'transcript_resume_similarity_transformers'],\n",
       "      dtype='object')"
      ]
     },
     "execution_count": 8,
     "metadata": {},
     "output_type": "execute_result"
    }
   ],
   "source": [
    "data.drop(columns=['Unnamed: 0','Unnamed: 0.1'], inplace=True) \n",
    "data.columns"
   ]
  },
  {
   "cell_type": "code",
   "execution_count": 9,
   "id": "c4402a48",
   "metadata": {},
   "outputs": [],
   "source": [
    "transcripts = data['Transcript'].tolist()\n",
    "resumes = data['Resume'].tolist()\n",
    "job_desc = data['Job Description'].tolist()"
   ]
  },
  {
   "cell_type": "code",
   "execution_count": 28,
   "id": "3f68a195",
   "metadata": {},
   "outputs": [],
   "source": [
    "tokenizer = DistilBertTokenizer.from_pretrained(\"distilbert-base-uncased\")\n",
    "model = DistilBertModel.from_pretrained(\"distilbert-base-uncased\") "
   ]
  },
  {
   "cell_type": "code",
   "execution_count": 29,
   "id": "f8e4c471",
   "metadata": {},
   "outputs": [],
   "source": [
    "def get_bert_embeddings_batch(texts, tokenizer, model, batch_size=32):\n",
    "    embeddings = []\n",
    "    total_batches = (len(texts) + batch_size - 1) // batch_size  # Total number of batches\n",
    "    print(f\"Total Batches: {total_batches}\")\n",
    "    for i in range(total_batches):\n",
    "        # Print progress\\n\"\n",
    "        print(f\"Processing batch {i + 1}/{total_batches}...\")\n",
    "        # Get the current batch\\n\",\n",
    "        batch = texts[i * batch_size:(i + 1) * batch_size]\n",
    "        inputs = tokenizer(batch, return_tensors='pt', truncation=True, padding=True, max_length=512)\n",
    "        with torch.no_grad():\n",
    "            outputs = model(**inputs)\n",
    "        # Use the [CLS] token representation for each text in the batch\\n\",\n",
    "        batch_embeddings = outputs.last_hidden_state[:, 0, :].cpu().numpy(),\n",
    "        embeddings.extend(batch_embeddings)\n",
    "    return embeddings"
   ]
  },
  {
   "cell_type": "code",
   "execution_count": 30,
   "id": "12eb188c",
   "metadata": {
    "scrolled": true
   },
   "outputs": [
    {
     "name": "stdout",
     "output_type": "stream",
     "text": [
      "Total Batches: 93\n",
      "Processing batch 1/93...\n",
      "Processing batch 2/93...\n",
      "Processing batch 3/93...\n",
      "Processing batch 4/93...\n",
      "Processing batch 5/93...\n",
      "Processing batch 6/93...\n",
      "Processing batch 7/93...\n",
      "Processing batch 8/93...\n",
      "Processing batch 9/93...\n",
      "Processing batch 10/93...\n",
      "Processing batch 11/93...\n",
      "Processing batch 12/93...\n",
      "Processing batch 13/93...\n",
      "Processing batch 14/93...\n",
      "Processing batch 15/93...\n",
      "Processing batch 16/93...\n",
      "Processing batch 17/93...\n",
      "Processing batch 18/93...\n",
      "Processing batch 19/93...\n",
      "Processing batch 20/93...\n",
      "Processing batch 21/93...\n",
      "Processing batch 22/93...\n",
      "Processing batch 23/93...\n",
      "Processing batch 24/93...\n",
      "Processing batch 25/93...\n",
      "Processing batch 26/93...\n",
      "Processing batch 27/93...\n",
      "Processing batch 28/93...\n",
      "Processing batch 29/93...\n",
      "Processing batch 30/93...\n",
      "Processing batch 31/93...\n",
      "Processing batch 32/93...\n",
      "Processing batch 33/93...\n",
      "Processing batch 34/93...\n",
      "Processing batch 35/93...\n",
      "Processing batch 36/93...\n",
      "Processing batch 37/93...\n",
      "Processing batch 38/93...\n",
      "Processing batch 39/93...\n",
      "Processing batch 40/93...\n",
      "Processing batch 41/93...\n",
      "Processing batch 42/93...\n",
      "Processing batch 43/93...\n",
      "Processing batch 44/93...\n",
      "Processing batch 45/93...\n",
      "Processing batch 46/93...\n",
      "Processing batch 47/93...\n",
      "Processing batch 48/93...\n",
      "Processing batch 49/93...\n",
      "Processing batch 50/93...\n",
      "Processing batch 51/93...\n",
      "Processing batch 52/93...\n",
      "Processing batch 53/93...\n",
      "Processing batch 54/93...\n",
      "Processing batch 55/93...\n",
      "Processing batch 56/93...\n",
      "Processing batch 57/93...\n",
      "Processing batch 58/93...\n",
      "Processing batch 59/93...\n",
      "Processing batch 60/93...\n",
      "Processing batch 61/93...\n",
      "Processing batch 62/93...\n",
      "Processing batch 63/93...\n",
      "Processing batch 64/93...\n",
      "Processing batch 65/93...\n",
      "Processing batch 66/93...\n",
      "Processing batch 67/93...\n",
      "Processing batch 68/93...\n",
      "Processing batch 69/93...\n",
      "Processing batch 70/93...\n",
      "Processing batch 71/93...\n",
      "Processing batch 72/93...\n",
      "Processing batch 73/93...\n",
      "Processing batch 74/93...\n",
      "Processing batch 75/93...\n",
      "Processing batch 76/93...\n",
      "Processing batch 77/93...\n",
      "Processing batch 78/93...\n",
      "Processing batch 79/93...\n",
      "Processing batch 80/93...\n",
      "Processing batch 81/93...\n",
      "Processing batch 82/93...\n",
      "Processing batch 83/93...\n",
      "Processing batch 84/93...\n",
      "Processing batch 85/93...\n",
      "Processing batch 86/93...\n",
      "Processing batch 87/93...\n",
      "Processing batch 88/93...\n",
      "Processing batch 89/93...\n",
      "Processing batch 90/93...\n",
      "Processing batch 91/93...\n",
      "Processing batch 92/93...\n",
      "Processing batch 93/93...\n"
     ]
    }
   ],
   "source": [
    "batch_embeddings = get_bert_embeddings_batch(transcripts, tokenizer, model, batch_size=32)"
   ]
  },
  {
   "cell_type": "code",
   "execution_count": 31,
   "id": "6f96931c",
   "metadata": {},
   "outputs": [],
   "source": [
    "# Flatten the nested batch_embeddings\n",
    "flat_embeddings = [embedding for batch in batch_embeddings for embedding in batch]\n",
    "data['bert_embeddings_trans'] = flat_embeddings"
   ]
  },
  {
   "cell_type": "code",
   "execution_count": 32,
   "id": "4683654d",
   "metadata": {
    "scrolled": true
   },
   "outputs": [
    {
     "name": "stdout",
     "output_type": "stream",
     "text": [
      "Total Batches: 93\n",
      "Processing batch 1/93...\n",
      "Processing batch 2/93...\n",
      "Processing batch 3/93...\n",
      "Processing batch 4/93...\n",
      "Processing batch 5/93...\n",
      "Processing batch 6/93...\n",
      "Processing batch 7/93...\n",
      "Processing batch 8/93...\n",
      "Processing batch 9/93...\n",
      "Processing batch 10/93...\n",
      "Processing batch 11/93...\n",
      "Processing batch 12/93...\n",
      "Processing batch 13/93...\n",
      "Processing batch 14/93...\n",
      "Processing batch 15/93...\n",
      "Processing batch 16/93...\n",
      "Processing batch 17/93...\n",
      "Processing batch 18/93...\n",
      "Processing batch 19/93...\n",
      "Processing batch 20/93...\n",
      "Processing batch 21/93...\n",
      "Processing batch 22/93...\n",
      "Processing batch 23/93...\n",
      "Processing batch 24/93...\n",
      "Processing batch 25/93...\n",
      "Processing batch 26/93...\n",
      "Processing batch 27/93...\n",
      "Processing batch 28/93...\n",
      "Processing batch 29/93...\n",
      "Processing batch 30/93...\n",
      "Processing batch 31/93...\n",
      "Processing batch 32/93...\n",
      "Processing batch 33/93...\n",
      "Processing batch 34/93...\n",
      "Processing batch 35/93...\n",
      "Processing batch 36/93...\n",
      "Processing batch 37/93...\n",
      "Processing batch 38/93...\n",
      "Processing batch 39/93...\n",
      "Processing batch 40/93...\n",
      "Processing batch 41/93...\n",
      "Processing batch 42/93...\n",
      "Processing batch 43/93...\n",
      "Processing batch 44/93...\n",
      "Processing batch 45/93...\n",
      "Processing batch 46/93...\n",
      "Processing batch 47/93...\n",
      "Processing batch 48/93...\n",
      "Processing batch 49/93...\n",
      "Processing batch 50/93...\n",
      "Processing batch 51/93...\n",
      "Processing batch 52/93...\n",
      "Processing batch 53/93...\n",
      "Processing batch 54/93...\n",
      "Processing batch 55/93...\n",
      "Processing batch 56/93...\n",
      "Processing batch 57/93...\n",
      "Processing batch 58/93...\n",
      "Processing batch 59/93...\n",
      "Processing batch 60/93...\n",
      "Processing batch 61/93...\n",
      "Processing batch 62/93...\n",
      "Processing batch 63/93...\n",
      "Processing batch 64/93...\n",
      "Processing batch 65/93...\n",
      "Processing batch 66/93...\n",
      "Processing batch 67/93...\n",
      "Processing batch 68/93...\n",
      "Processing batch 69/93...\n",
      "Processing batch 70/93...\n",
      "Processing batch 71/93...\n",
      "Processing batch 72/93...\n",
      "Processing batch 73/93...\n",
      "Processing batch 74/93...\n",
      "Processing batch 75/93...\n",
      "Processing batch 76/93...\n",
      "Processing batch 77/93...\n",
      "Processing batch 78/93...\n",
      "Processing batch 79/93...\n",
      "Processing batch 80/93...\n",
      "Processing batch 81/93...\n",
      "Processing batch 82/93...\n",
      "Processing batch 83/93...\n",
      "Processing batch 84/93...\n",
      "Processing batch 85/93...\n",
      "Processing batch 86/93...\n",
      "Processing batch 87/93...\n",
      "Processing batch 88/93...\n",
      "Processing batch 89/93...\n",
      "Processing batch 90/93...\n",
      "Processing batch 91/93...\n",
      "Processing batch 92/93...\n",
      "Processing batch 93/93...\n"
     ]
    }
   ],
   "source": [
    "batch_embeddings_resume = get_bert_embeddings_batch(resumes, tokenizer, model, batch_size=32)"
   ]
  },
  {
   "cell_type": "code",
   "execution_count": 33,
   "id": "721ca040",
   "metadata": {},
   "outputs": [],
   "source": [
    "flat_embeddings_res = [embedding for batch in batch_embeddings_resume for embedding in batch]\n",
    "data['bert_embeddings_resume'] = flat_embeddings_res"
   ]
  },
  {
   "cell_type": "code",
   "execution_count": 34,
   "id": "31672385",
   "metadata": {
    "scrolled": true
   },
   "outputs": [
    {
     "name": "stdout",
     "output_type": "stream",
     "text": [
      "Total Batches: 93\n",
      "Processing batch 1/93...\n",
      "Processing batch 2/93...\n",
      "Processing batch 3/93...\n",
      "Processing batch 4/93...\n",
      "Processing batch 5/93...\n",
      "Processing batch 6/93...\n",
      "Processing batch 7/93...\n",
      "Processing batch 8/93...\n",
      "Processing batch 9/93...\n",
      "Processing batch 10/93...\n",
      "Processing batch 11/93...\n",
      "Processing batch 12/93...\n",
      "Processing batch 13/93...\n",
      "Processing batch 14/93...\n",
      "Processing batch 15/93...\n",
      "Processing batch 16/93...\n",
      "Processing batch 17/93...\n",
      "Processing batch 18/93...\n",
      "Processing batch 19/93...\n",
      "Processing batch 20/93...\n",
      "Processing batch 21/93...\n",
      "Processing batch 22/93...\n",
      "Processing batch 23/93...\n",
      "Processing batch 24/93...\n",
      "Processing batch 25/93...\n",
      "Processing batch 26/93...\n",
      "Processing batch 27/93...\n",
      "Processing batch 28/93...\n",
      "Processing batch 29/93...\n",
      "Processing batch 30/93...\n",
      "Processing batch 31/93...\n",
      "Processing batch 32/93...\n",
      "Processing batch 33/93...\n",
      "Processing batch 34/93...\n",
      "Processing batch 35/93...\n",
      "Processing batch 36/93...\n",
      "Processing batch 37/93...\n",
      "Processing batch 38/93...\n",
      "Processing batch 39/93...\n",
      "Processing batch 40/93...\n",
      "Processing batch 41/93...\n",
      "Processing batch 42/93...\n",
      "Processing batch 43/93...\n",
      "Processing batch 44/93...\n",
      "Processing batch 45/93...\n",
      "Processing batch 46/93...\n",
      "Processing batch 47/93...\n",
      "Processing batch 48/93...\n",
      "Processing batch 49/93...\n",
      "Processing batch 50/93...\n",
      "Processing batch 51/93...\n",
      "Processing batch 52/93...\n",
      "Processing batch 53/93...\n",
      "Processing batch 54/93...\n",
      "Processing batch 55/93...\n",
      "Processing batch 56/93...\n",
      "Processing batch 57/93...\n",
      "Processing batch 58/93...\n",
      "Processing batch 59/93...\n",
      "Processing batch 60/93...\n",
      "Processing batch 61/93...\n",
      "Processing batch 62/93...\n",
      "Processing batch 63/93...\n",
      "Processing batch 64/93...\n",
      "Processing batch 65/93...\n",
      "Processing batch 66/93...\n",
      "Processing batch 67/93...\n",
      "Processing batch 68/93...\n",
      "Processing batch 69/93...\n",
      "Processing batch 70/93...\n",
      "Processing batch 71/93...\n",
      "Processing batch 72/93...\n",
      "Processing batch 73/93...\n",
      "Processing batch 74/93...\n",
      "Processing batch 75/93...\n",
      "Processing batch 76/93...\n",
      "Processing batch 77/93...\n",
      "Processing batch 78/93...\n",
      "Processing batch 79/93...\n",
      "Processing batch 80/93...\n",
      "Processing batch 81/93...\n",
      "Processing batch 82/93...\n",
      "Processing batch 83/93...\n",
      "Processing batch 84/93...\n",
      "Processing batch 85/93...\n",
      "Processing batch 86/93...\n",
      "Processing batch 87/93...\n",
      "Processing batch 88/93...\n",
      "Processing batch 89/93...\n",
      "Processing batch 90/93...\n",
      "Processing batch 91/93...\n",
      "Processing batch 92/93...\n",
      "Processing batch 93/93...\n"
     ]
    }
   ],
   "source": [
    "batch_embeddings_job_desc = get_bert_embeddings_batch(job_desc, tokenizer, model, batch_size=32)"
   ]
  },
  {
   "cell_type": "code",
   "execution_count": 35,
   "id": "c870c59a",
   "metadata": {},
   "outputs": [],
   "source": [
    "flat_embeddings_jd = [embedding for batch in batch_embeddings_job_desc for embedding in batch]\n",
    "data['bert_embeddings_jobDesc'] = flat_embeddings_jd"
   ]
  },
  {
   "cell_type": "code",
   "execution_count": 36,
   "id": "57782c2b",
   "metadata": {},
   "outputs": [],
   "source": [
    "trans_expanded = pd.DataFrame(data['bert_embeddings_trans'].tolist(), index=data.index)\n",
    "trans_expanded.columns = [f'trans_emb_{i}' for i in range(trans_expanded.shape[1])]"
   ]
  },
  {
   "cell_type": "code",
   "execution_count": 37,
   "id": "71474cf5",
   "metadata": {},
   "outputs": [],
   "source": [
    "resume_expanded = pd.DataFrame(data['bert_embeddings_resume'].tolist(), index=data.index)\n",
    "resume_expanded.columns = [f'resume_emb_{i}' for i in range(resume_expanded.shape[1])]"
   ]
  },
  {
   "cell_type": "code",
   "execution_count": 38,
   "id": "7f110893",
   "metadata": {},
   "outputs": [],
   "source": [
    "jd_expanded = pd.DataFrame(data['bert_embeddings_jobDesc'].tolist(), index=data.index)\n",
    "jd_expanded.columns = [f'jd_emb_{i}' for i in range(jd_expanded.shape[1])]"
   ]
  },
  {
   "cell_type": "code",
   "execution_count": 39,
   "id": "e2f04da1",
   "metadata": {},
   "outputs": [],
   "source": [
    "df_expanded = pd.concat([data, trans_expanded, resume_expanded , jd_expanded], axis=1)"
   ]
  },
  {
   "cell_type": "code",
   "execution_count": null,
   "id": "d33080af",
   "metadata": {},
   "outputs": [],
   "source": []
  },
  {
   "cell_type": "code",
   "execution_count": 40,
   "id": "ae4a08f1",
   "metadata": {},
   "outputs": [],
   "source": [
    "df_expanded = df_expanded.drop(columns=['bert_embeddings_trans', 'bert_embeddings_resume','bert_embeddings_jobDesc'])"
   ]
  },
  {
   "cell_type": "code",
   "execution_count": 15,
   "id": "f4d14b91",
   "metadata": {},
   "outputs": [],
   "source": [
    "df_expanded = pd.read_excel('bert_embeddings2.xlsx')"
   ]
  },
  {
   "cell_type": "code",
   "execution_count": 27,
   "id": "b56e598d",
   "metadata": {},
   "outputs": [],
   "source": [
    "## After Bert Embeddings "
   ]
  },
  {
   "cell_type": "code",
   "execution_count": 41,
   "id": "6d1a7a72",
   "metadata": {},
   "outputs": [],
   "source": [
    "from sklearn.model_selection import train_test_split\n",
    "from sklearn.preprocessing import LabelEncoder\n",
    "from xgboost import XGBClassifier\n",
    "from sklearn.metrics import classification_report, accuracy_score, roc_auc_score"
   ]
  },
  {
   "cell_type": "code",
   "execution_count": 17,
   "id": "802f0e36",
   "metadata": {},
   "outputs": [],
   "source": [
    "# pip install xgboost"
   ]
  },
  {
   "cell_type": "code",
   "execution_count": 42,
   "id": "86aed6e6",
   "metadata": {},
   "outputs": [],
   "source": [
    "label_encoder = LabelEncoder()\n",
    "df_expanded['decision_encoded'] = label_encoder.fit_transform(df_expanded['decision'])\n",
    "# Step 2: Split features and target\n",
    "# Assuming embeddings columns are named like 'trans_emb_0', 'resume_emb_0', etc.\\n\",\n",
    "embedding_columns = [col for col in df_expanded.columns if col.startswith('trans_emb_') or col.startswith('resume_emb_') or col.startswith('jd_emb_')]\n",
    "X = df_expanded[embedding_columns]\n",
    "y = df_expanded['decision_encoded']"
   ]
  },
  {
   "cell_type": "code",
   "execution_count": 43,
   "id": "1ef6198e",
   "metadata": {},
   "outputs": [],
   "source": [
    "X_train, X_test, y_train, y_test = train_test_split(X, y, test_size=0.2, random_state=42, stratify=y)"
   ]
  },
  {
   "cell_type": "code",
   "execution_count": null,
   "id": "52856881",
   "metadata": {},
   "outputs": [],
   "source": [
    "model = XGBClassifier(use_label_encoder=False,max_depth=5,n_estimators=200,learning_rate=0.1, eval_metric='logloss')\n",
    "model.fit(X_train, y_train)"
   ]
  },
  {
   "cell_type": "code",
   "execution_count": 45,
   "id": "7060ed7b",
   "metadata": {},
   "outputs": [],
   "source": [
    "y_pred = model.predict(X_test)"
   ]
  },
  {
   "cell_type": "code",
   "execution_count": 46,
   "id": "ca193a10",
   "metadata": {
    "scrolled": true
   },
   "outputs": [
    {
     "name": "stdout",
     "output_type": "stream",
     "text": [
      "Accuracy:  0.7922297297297297\n"
     ]
    }
   ],
   "source": [
    "print(\"Accuracy: \", accuracy_score(y_test, y_pred))"
   ]
  },
  {
   "cell_type": "code",
   "execution_count": 48,
   "id": "393584f5",
   "metadata": {},
   "outputs": [
    {
     "name": "stdout",
     "output_type": "stream",
     "text": [
      "roc_auc: 0.7919860627177701\n"
     ]
    }
   ],
   "source": [
    "print(\"roc_auc:\", roc_auc_score(y_test, y_pred))"
   ]
  },
  {
   "cell_type": "markdown",
   "id": "3d49752a",
   "metadata": {},
   "source": [
    "## Combining derived features with  BERT embeddings"
   ]
  },
  {
   "cell_type": "code",
   "execution_count": 49,
   "id": "b6f27f35",
   "metadata": {},
   "outputs": [
    {
     "data": {
      "text/plain": [
       "Index(['ID', 'Name', 'Role', 'Transcript', 'Resume', 'decision',\n",
       "       'Reason for decision', 'Job Description', 'Transcript_processed',\n",
       "       'Resume_processed', 'Job_Description_processed', 'Transcript_sentiment',\n",
       "       'Resume_sentiment', 'JobDescription_sentiment', 'Transcript_words',\n",
       "       'Resume_words', 'Years_Experience', 'resume_jd_similarity',\n",
       "       'Transcript_jd_similarity', 'resume_transcript_similarity',\n",
       "       'resume_sentence_count', 'resume_avg_word_length', 'skill_match_count',\n",
       "       'university_education_count', 'transcript_vocab_diversity',\n",
       "       'transcript_avg_sentence_length', 'resume_jd_similarity_transformers',\n",
       "       'transcript_jd_similarity_transformers',\n",
       "       'transcript_resume_similarity_transformers', 'bert_embeddings_trans',\n",
       "       'bert_embeddings_resume', 'bert_embeddings_jobDesc'],\n",
       "      dtype='object')"
      ]
     },
     "execution_count": 49,
     "metadata": {},
     "output_type": "execute_result"
    }
   ],
   "source": [
    "data.columns"
   ]
  },
  {
   "cell_type": "code",
   "execution_count": 50,
   "id": "8bef16cb",
   "metadata": {},
   "outputs": [
    {
     "data": {
      "text/html": [
       "<div>\n",
       "<style scoped>\n",
       "    .dataframe tbody tr th:only-of-type {\n",
       "        vertical-align: middle;\n",
       "    }\n",
       "\n",
       "    .dataframe tbody tr th {\n",
       "        vertical-align: top;\n",
       "    }\n",
       "\n",
       "    .dataframe thead th {\n",
       "        text-align: right;\n",
       "    }\n",
       "</style>\n",
       "<table border=\"1\" class=\"dataframe\">\n",
       "  <thead>\n",
       "    <tr style=\"text-align: right;\">\n",
       "      <th></th>\n",
       "      <th>Transcript_sentiment</th>\n",
       "      <th>Resume_sentiment</th>\n",
       "      <th>JobDescription_sentiment</th>\n",
       "      <th>Transcript_words</th>\n",
       "      <th>Resume_words</th>\n",
       "      <th>Years_Experience</th>\n",
       "      <th>resume_sentence_count</th>\n",
       "      <th>resume_avg_word_length</th>\n",
       "      <th>skill_match_count</th>\n",
       "      <th>university_education_count</th>\n",
       "      <th>transcript_vocab_diversity</th>\n",
       "      <th>transcript_avg_sentence_length</th>\n",
       "    </tr>\n",
       "  </thead>\n",
       "  <tbody>\n",
       "    <tr>\n",
       "      <th>0</th>\n",
       "      <td>0.270412</td>\n",
       "      <td>0.307407</td>\n",
       "      <td>0.50</td>\n",
       "      <td>348</td>\n",
       "      <td>221</td>\n",
       "      <td>14</td>\n",
       "      <td>1</td>\n",
       "      <td>7.737557</td>\n",
       "      <td>8</td>\n",
       "      <td>2</td>\n",
       "      <td>0.548851</td>\n",
       "      <td>348</td>\n",
       "    </tr>\n",
       "    <tr>\n",
       "      <th>1</th>\n",
       "      <td>0.296350</td>\n",
       "      <td>0.130833</td>\n",
       "      <td>0.50</td>\n",
       "      <td>387</td>\n",
       "      <td>241</td>\n",
       "      <td>11</td>\n",
       "      <td>1</td>\n",
       "      <td>7.676349</td>\n",
       "      <td>7</td>\n",
       "      <td>2</td>\n",
       "      <td>0.591731</td>\n",
       "      <td>387</td>\n",
       "    </tr>\n",
       "    <tr>\n",
       "      <th>2</th>\n",
       "      <td>0.173791</td>\n",
       "      <td>0.202970</td>\n",
       "      <td>0.50</td>\n",
       "      <td>282</td>\n",
       "      <td>255</td>\n",
       "      <td>14</td>\n",
       "      <td>1</td>\n",
       "      <td>7.117647</td>\n",
       "      <td>9</td>\n",
       "      <td>1</td>\n",
       "      <td>0.475177</td>\n",
       "      <td>282</td>\n",
       "    </tr>\n",
       "    <tr>\n",
       "      <th>3</th>\n",
       "      <td>0.198376</td>\n",
       "      <td>0.131515</td>\n",
       "      <td>0.50</td>\n",
       "      <td>402</td>\n",
       "      <td>237</td>\n",
       "      <td>7</td>\n",
       "      <td>1</td>\n",
       "      <td>7.130802</td>\n",
       "      <td>7</td>\n",
       "      <td>1</td>\n",
       "      <td>0.519900</td>\n",
       "      <td>402</td>\n",
       "    </tr>\n",
       "    <tr>\n",
       "      <th>4</th>\n",
       "      <td>0.324771</td>\n",
       "      <td>0.111750</td>\n",
       "      <td>0.25</td>\n",
       "      <td>306</td>\n",
       "      <td>299</td>\n",
       "      <td>0</td>\n",
       "      <td>1</td>\n",
       "      <td>7.394649</td>\n",
       "      <td>9</td>\n",
       "      <td>2</td>\n",
       "      <td>0.522876</td>\n",
       "      <td>306</td>\n",
       "    </tr>\n",
       "    <tr>\n",
       "      <th>...</th>\n",
       "      <td>...</td>\n",
       "      <td>...</td>\n",
       "      <td>...</td>\n",
       "      <td>...</td>\n",
       "      <td>...</td>\n",
       "      <td>...</td>\n",
       "      <td>...</td>\n",
       "      <td>...</td>\n",
       "      <td>...</td>\n",
       "      <td>...</td>\n",
       "      <td>...</td>\n",
       "      <td>...</td>\n",
       "    </tr>\n",
       "    <tr>\n",
       "      <th>2953</th>\n",
       "      <td>0.265649</td>\n",
       "      <td>0.107810</td>\n",
       "      <td>0.00</td>\n",
       "      <td>366</td>\n",
       "      <td>326</td>\n",
       "      <td>6</td>\n",
       "      <td>1</td>\n",
       "      <td>7.263804</td>\n",
       "      <td>4</td>\n",
       "      <td>2</td>\n",
       "      <td>0.609290</td>\n",
       "      <td>366</td>\n",
       "    </tr>\n",
       "    <tr>\n",
       "      <th>2954</th>\n",
       "      <td>0.223822</td>\n",
       "      <td>0.130000</td>\n",
       "      <td>0.00</td>\n",
       "      <td>437</td>\n",
       "      <td>309</td>\n",
       "      <td>0</td>\n",
       "      <td>1</td>\n",
       "      <td>7.482201</td>\n",
       "      <td>4</td>\n",
       "      <td>2</td>\n",
       "      <td>0.494279</td>\n",
       "      <td>437</td>\n",
       "    </tr>\n",
       "    <tr>\n",
       "      <th>2955</th>\n",
       "      <td>0.091538</td>\n",
       "      <td>0.146667</td>\n",
       "      <td>0.00</td>\n",
       "      <td>441</td>\n",
       "      <td>290</td>\n",
       "      <td>1</td>\n",
       "      <td>1</td>\n",
       "      <td>7.665517</td>\n",
       "      <td>6</td>\n",
       "      <td>2</td>\n",
       "      <td>0.428571</td>\n",
       "      <td>441</td>\n",
       "    </tr>\n",
       "    <tr>\n",
       "      <th>2956</th>\n",
       "      <td>0.220782</td>\n",
       "      <td>0.093155</td>\n",
       "      <td>0.00</td>\n",
       "      <td>444</td>\n",
       "      <td>373</td>\n",
       "      <td>8</td>\n",
       "      <td>1</td>\n",
       "      <td>7.624665</td>\n",
       "      <td>4</td>\n",
       "      <td>2</td>\n",
       "      <td>0.495495</td>\n",
       "      <td>444</td>\n",
       "    </tr>\n",
       "    <tr>\n",
       "      <th>2957</th>\n",
       "      <td>0.147404</td>\n",
       "      <td>0.134783</td>\n",
       "      <td>0.00</td>\n",
       "      <td>378</td>\n",
       "      <td>289</td>\n",
       "      <td>6</td>\n",
       "      <td>1</td>\n",
       "      <td>7.460208</td>\n",
       "      <td>4</td>\n",
       "      <td>2</td>\n",
       "      <td>0.497354</td>\n",
       "      <td>378</td>\n",
       "    </tr>\n",
       "  </tbody>\n",
       "</table>\n",
       "<p>2958 rows × 12 columns</p>\n",
       "</div>"
      ],
      "text/plain": [
       "      Transcript_sentiment  Resume_sentiment  JobDescription_sentiment  \\\n",
       "0                 0.270412          0.307407                      0.50   \n",
       "1                 0.296350          0.130833                      0.50   \n",
       "2                 0.173791          0.202970                      0.50   \n",
       "3                 0.198376          0.131515                      0.50   \n",
       "4                 0.324771          0.111750                      0.25   \n",
       "...                    ...               ...                       ...   \n",
       "2953              0.265649          0.107810                      0.00   \n",
       "2954              0.223822          0.130000                      0.00   \n",
       "2955              0.091538          0.146667                      0.00   \n",
       "2956              0.220782          0.093155                      0.00   \n",
       "2957              0.147404          0.134783                      0.00   \n",
       "\n",
       "      Transcript_words  Resume_words  Years_Experience  resume_sentence_count  \\\n",
       "0                  348           221                14                      1   \n",
       "1                  387           241                11                      1   \n",
       "2                  282           255                14                      1   \n",
       "3                  402           237                 7                      1   \n",
       "4                  306           299                 0                      1   \n",
       "...                ...           ...               ...                    ...   \n",
       "2953               366           326                 6                      1   \n",
       "2954               437           309                 0                      1   \n",
       "2955               441           290                 1                      1   \n",
       "2956               444           373                 8                      1   \n",
       "2957               378           289                 6                      1   \n",
       "\n",
       "      resume_avg_word_length  skill_match_count  university_education_count  \\\n",
       "0                   7.737557                  8                           2   \n",
       "1                   7.676349                  7                           2   \n",
       "2                   7.117647                  9                           1   \n",
       "3                   7.130802                  7                           1   \n",
       "4                   7.394649                  9                           2   \n",
       "...                      ...                ...                         ...   \n",
       "2953                7.263804                  4                           2   \n",
       "2954                7.482201                  4                           2   \n",
       "2955                7.665517                  6                           2   \n",
       "2956                7.624665                  4                           2   \n",
       "2957                7.460208                  4                           2   \n",
       "\n",
       "      transcript_vocab_diversity  transcript_avg_sentence_length  \n",
       "0                       0.548851                             348  \n",
       "1                       0.591731                             387  \n",
       "2                       0.475177                             282  \n",
       "3                       0.519900                             402  \n",
       "4                       0.522876                             306  \n",
       "...                          ...                             ...  \n",
       "2953                    0.609290                             366  \n",
       "2954                    0.494279                             437  \n",
       "2955                    0.428571                             441  \n",
       "2956                    0.495495                             444  \n",
       "2957                    0.497354                             378  \n",
       "\n",
       "[2958 rows x 12 columns]"
      ]
     },
     "execution_count": 50,
     "metadata": {},
     "output_type": "execute_result"
    }
   ],
   "source": [
    "df_expanded[['Transcript_sentiment','Resume_sentiment', 'JobDescription_sentiment', 'Transcript_words',\n",
    "       'Resume_words', 'Years_Experience',\n",
    "       'resume_sentence_count', 'resume_avg_word_length', 'skill_match_count',\n",
    "       'university_education_count', 'transcript_vocab_diversity',\n",
    "       'transcript_avg_sentence_length']]"
   ]
  },
  {
   "cell_type": "markdown",
   "id": "9a65002d",
   "metadata": {},
   "source": [
    "### Calculating the similarity between transcript , resume , job description using the BERT embeddings"
   ]
  },
  {
   "cell_type": "code",
   "execution_count": 51,
   "id": "769c05d7",
   "metadata": {},
   "outputs": [],
   "source": [
    "# Resume and Transcript similarity using Bert embeddings \n",
    "from sklearn.metrics.pairwise import cosine_similarity\n",
    "tra_res_simi = []\n",
    "for tra , res in zip(flat_embeddings , flat_embeddings_res):\n",
    "    tra_res_simi.append(cosine_similarity([tra],[res])[0][0])"
   ]
  },
  {
   "cell_type": "code",
   "execution_count": 52,
   "id": "dee27be6",
   "metadata": {},
   "outputs": [],
   "source": [
    "tra_jd_simi = []\n",
    "for tra , jd in zip(flat_embeddings , flat_embeddings_jd):\n",
    "    tra_jd_simi.append(cosine_similarity([tra],[jd])[0][0])"
   ]
  },
  {
   "cell_type": "code",
   "execution_count": 53,
   "id": "114b39a9",
   "metadata": {},
   "outputs": [],
   "source": [
    "jd_res_simi = []\n",
    "for jd , res in zip(flat_embeddings_jd , flat_embeddings_res):\n",
    "    jd_res_simi.append(cosine_similarity([jd],[res])[0][0])"
   ]
  },
  {
   "cell_type": "code",
   "execution_count": 54,
   "id": "695ed935",
   "metadata": {},
   "outputs": [],
   "source": [
    "df_expanded['Bert_TransRes_Similarity'] = tra_res_simi\n",
    "df_expanded['Bert_TransJobDesc_Similarity'] = tra_jd_simi\n",
    "df_expanded['Bert_ResJobDesc_Similarity'] = jd_res_simi "
   ]
  },
  {
   "cell_type": "code",
   "execution_count": 55,
   "id": "ed260ef2",
   "metadata": {},
   "outputs": [],
   "source": [
    "derived_features = df_expanded[['Transcript_sentiment','Resume_sentiment', 'JobDescription_sentiment', 'Transcript_words',\n",
    "       'Resume_words', 'Years_Experience', 'resume_avg_word_length', 'skill_match_count','university_education_count', 'transcript_vocab_diversity',\n",
    "       'transcript_avg_sentence_length' , 'Bert_TransRes_Similarity', 'Bert_TransJobDesc_Similarity' , 'Bert_ResJobDesc_Similarity']]"
   ]
  },
  {
   "cell_type": "code",
   "execution_count": 56,
   "id": "781fb10f",
   "metadata": {},
   "outputs": [],
   "source": [
    "## Merging the entire data "
   ]
  },
  {
   "cell_type": "code",
   "execution_count": 57,
   "id": "ab29bb4a",
   "metadata": {},
   "outputs": [],
   "source": [
    "new_data = pd.concat([X,derived_features],axis=1)"
   ]
  },
  {
   "cell_type": "code",
   "execution_count": 58,
   "id": "ddebd38d",
   "metadata": {},
   "outputs": [],
   "source": [
    "X_train, X_test, y_train, y_test = train_test_split(new_data, y, test_size=0.2, random_state=42, stratify=y)"
   ]
  },
  {
   "cell_type": "code",
   "execution_count": null,
   "id": "4524aac5",
   "metadata": {},
   "outputs": [],
   "source": [
    "model1 = XGBClassifier(use_label_encoder=False,max_depth=5,n_estimators=200,learning_rate=0.1, eval_metric='logloss')\n",
    "model1.fit(X_train, y_train)"
   ]
  },
  {
   "cell_type": "code",
   "execution_count": 60,
   "id": "c78ca8b2",
   "metadata": {},
   "outputs": [],
   "source": [
    "y_pred = model1.predict(X_test)"
   ]
  },
  {
   "cell_type": "code",
   "execution_count": 61,
   "id": "626336a5",
   "metadata": {},
   "outputs": [
    {
     "name": "stdout",
     "output_type": "stream",
     "text": [
      "Accuracy:  0.8040540540540541\n",
      "roc_auc: 0.8033586565373849\n"
     ]
    }
   ],
   "source": [
    "print(\"Accuracy: \", accuracy_score(y_test, y_pred))\n",
    "print(\"roc_auc:\", roc_auc_score(y_test, y_pred))"
   ]
  },
  {
   "cell_type": "code",
   "execution_count": 175,
   "id": "aa91e9dc",
   "metadata": {},
   "outputs": [],
   "source": [
    "## Creating another model using other parameters "
   ]
  },
  {
   "cell_type": "code",
   "execution_count": 62,
   "id": "783a5f05",
   "metadata": {},
   "outputs": [
    {
     "name": "stderr",
     "output_type": "stream",
     "text": [
      "c:\\Users\\heman\\AppData\\Local\\Programs\\Python\\Python312\\Lib\\site-packages\\xgboost\\core.py:158: UserWarning: [22:37:42] WARNING: C:\\buildkite-agent\\builds\\buildkite-windows-cpu-autoscaling-group-i-0c55ff5f71b100e98-1\\xgboost\\xgboost-ci-windows\\src\\learner.cc:740: \n",
      "Parameters: { \"use_label_encoder\" } are not used.\n",
      "\n",
      "  warnings.warn(smsg, UserWarning)\n"
     ]
    },
    {
     "data": {
      "text/html": [
       "<style>#sk-container-id-4 {\n",
       "  /* Definition of color scheme common for light and dark mode */\n",
       "  --sklearn-color-text: black;\n",
       "  --sklearn-color-line: gray;\n",
       "  /* Definition of color scheme for unfitted estimators */\n",
       "  --sklearn-color-unfitted-level-0: #fff5e6;\n",
       "  --sklearn-color-unfitted-level-1: #f6e4d2;\n",
       "  --sklearn-color-unfitted-level-2: #ffe0b3;\n",
       "  --sklearn-color-unfitted-level-3: chocolate;\n",
       "  /* Definition of color scheme for fitted estimators */\n",
       "  --sklearn-color-fitted-level-0: #f0f8ff;\n",
       "  --sklearn-color-fitted-level-1: #d4ebff;\n",
       "  --sklearn-color-fitted-level-2: #b3dbfd;\n",
       "  --sklearn-color-fitted-level-3: cornflowerblue;\n",
       "\n",
       "  /* Specific color for light theme */\n",
       "  --sklearn-color-text-on-default-background: var(--sg-text-color, var(--theme-code-foreground, var(--jp-content-font-color1, black)));\n",
       "  --sklearn-color-background: var(--sg-background-color, var(--theme-background, var(--jp-layout-color0, white)));\n",
       "  --sklearn-color-border-box: var(--sg-text-color, var(--theme-code-foreground, var(--jp-content-font-color1, black)));\n",
       "  --sklearn-color-icon: #696969;\n",
       "\n",
       "  @media (prefers-color-scheme: dark) {\n",
       "    /* Redefinition of color scheme for dark theme */\n",
       "    --sklearn-color-text-on-default-background: var(--sg-text-color, var(--theme-code-foreground, var(--jp-content-font-color1, white)));\n",
       "    --sklearn-color-background: var(--sg-background-color, var(--theme-background, var(--jp-layout-color0, #111)));\n",
       "    --sklearn-color-border-box: var(--sg-text-color, var(--theme-code-foreground, var(--jp-content-font-color1, white)));\n",
       "    --sklearn-color-icon: #878787;\n",
       "  }\n",
       "}\n",
       "\n",
       "#sk-container-id-4 {\n",
       "  color: var(--sklearn-color-text);\n",
       "}\n",
       "\n",
       "#sk-container-id-4 pre {\n",
       "  padding: 0;\n",
       "}\n",
       "\n",
       "#sk-container-id-4 input.sk-hidden--visually {\n",
       "  border: 0;\n",
       "  clip: rect(1px 1px 1px 1px);\n",
       "  clip: rect(1px, 1px, 1px, 1px);\n",
       "  height: 1px;\n",
       "  margin: -1px;\n",
       "  overflow: hidden;\n",
       "  padding: 0;\n",
       "  position: absolute;\n",
       "  width: 1px;\n",
       "}\n",
       "\n",
       "#sk-container-id-4 div.sk-dashed-wrapped {\n",
       "  border: 1px dashed var(--sklearn-color-line);\n",
       "  margin: 0 0.4em 0.5em 0.4em;\n",
       "  box-sizing: border-box;\n",
       "  padding-bottom: 0.4em;\n",
       "  background-color: var(--sklearn-color-background);\n",
       "}\n",
       "\n",
       "#sk-container-id-4 div.sk-container {\n",
       "  /* jupyter's `normalize.less` sets `[hidden] { display: none; }`\n",
       "     but bootstrap.min.css set `[hidden] { display: none !important; }`\n",
       "     so we also need the `!important` here to be able to override the\n",
       "     default hidden behavior on the sphinx rendered scikit-learn.org.\n",
       "     See: https://github.com/scikit-learn/scikit-learn/issues/21755 */\n",
       "  display: inline-block !important;\n",
       "  position: relative;\n",
       "}\n",
       "\n",
       "#sk-container-id-4 div.sk-text-repr-fallback {\n",
       "  display: none;\n",
       "}\n",
       "\n",
       "div.sk-parallel-item,\n",
       "div.sk-serial,\n",
       "div.sk-item {\n",
       "  /* draw centered vertical line to link estimators */\n",
       "  background-image: linear-gradient(var(--sklearn-color-text-on-default-background), var(--sklearn-color-text-on-default-background));\n",
       "  background-size: 2px 100%;\n",
       "  background-repeat: no-repeat;\n",
       "  background-position: center center;\n",
       "}\n",
       "\n",
       "/* Parallel-specific style estimator block */\n",
       "\n",
       "#sk-container-id-4 div.sk-parallel-item::after {\n",
       "  content: \"\";\n",
       "  width: 100%;\n",
       "  border-bottom: 2px solid var(--sklearn-color-text-on-default-background);\n",
       "  flex-grow: 1;\n",
       "}\n",
       "\n",
       "#sk-container-id-4 div.sk-parallel {\n",
       "  display: flex;\n",
       "  align-items: stretch;\n",
       "  justify-content: center;\n",
       "  background-color: var(--sklearn-color-background);\n",
       "  position: relative;\n",
       "}\n",
       "\n",
       "#sk-container-id-4 div.sk-parallel-item {\n",
       "  display: flex;\n",
       "  flex-direction: column;\n",
       "}\n",
       "\n",
       "#sk-container-id-4 div.sk-parallel-item:first-child::after {\n",
       "  align-self: flex-end;\n",
       "  width: 50%;\n",
       "}\n",
       "\n",
       "#sk-container-id-4 div.sk-parallel-item:last-child::after {\n",
       "  align-self: flex-start;\n",
       "  width: 50%;\n",
       "}\n",
       "\n",
       "#sk-container-id-4 div.sk-parallel-item:only-child::after {\n",
       "  width: 0;\n",
       "}\n",
       "\n",
       "/* Serial-specific style estimator block */\n",
       "\n",
       "#sk-container-id-4 div.sk-serial {\n",
       "  display: flex;\n",
       "  flex-direction: column;\n",
       "  align-items: center;\n",
       "  background-color: var(--sklearn-color-background);\n",
       "  padding-right: 1em;\n",
       "  padding-left: 1em;\n",
       "}\n",
       "\n",
       "\n",
       "/* Toggleable style: style used for estimator/Pipeline/ColumnTransformer box that is\n",
       "clickable and can be expanded/collapsed.\n",
       "- Pipeline and ColumnTransformer use this feature and define the default style\n",
       "- Estimators will overwrite some part of the style using the `sk-estimator` class\n",
       "*/\n",
       "\n",
       "/* Pipeline and ColumnTransformer style (default) */\n",
       "\n",
       "#sk-container-id-4 div.sk-toggleable {\n",
       "  /* Default theme specific background. It is overwritten whether we have a\n",
       "  specific estimator or a Pipeline/ColumnTransformer */\n",
       "  background-color: var(--sklearn-color-background);\n",
       "}\n",
       "\n",
       "/* Toggleable label */\n",
       "#sk-container-id-4 label.sk-toggleable__label {\n",
       "  cursor: pointer;\n",
       "  display: block;\n",
       "  width: 100%;\n",
       "  margin-bottom: 0;\n",
       "  padding: 0.5em;\n",
       "  box-sizing: border-box;\n",
       "  text-align: center;\n",
       "}\n",
       "\n",
       "#sk-container-id-4 label.sk-toggleable__label-arrow:before {\n",
       "  /* Arrow on the left of the label */\n",
       "  content: \"▸\";\n",
       "  float: left;\n",
       "  margin-right: 0.25em;\n",
       "  color: var(--sklearn-color-icon);\n",
       "}\n",
       "\n",
       "#sk-container-id-4 label.sk-toggleable__label-arrow:hover:before {\n",
       "  color: var(--sklearn-color-text);\n",
       "}\n",
       "\n",
       "/* Toggleable content - dropdown */\n",
       "\n",
       "#sk-container-id-4 div.sk-toggleable__content {\n",
       "  max-height: 0;\n",
       "  max-width: 0;\n",
       "  overflow: hidden;\n",
       "  text-align: left;\n",
       "  /* unfitted */\n",
       "  background-color: var(--sklearn-color-unfitted-level-0);\n",
       "}\n",
       "\n",
       "#sk-container-id-4 div.sk-toggleable__content.fitted {\n",
       "  /* fitted */\n",
       "  background-color: var(--sklearn-color-fitted-level-0);\n",
       "}\n",
       "\n",
       "#sk-container-id-4 div.sk-toggleable__content pre {\n",
       "  margin: 0.2em;\n",
       "  border-radius: 0.25em;\n",
       "  color: var(--sklearn-color-text);\n",
       "  /* unfitted */\n",
       "  background-color: var(--sklearn-color-unfitted-level-0);\n",
       "}\n",
       "\n",
       "#sk-container-id-4 div.sk-toggleable__content.fitted pre {\n",
       "  /* unfitted */\n",
       "  background-color: var(--sklearn-color-fitted-level-0);\n",
       "}\n",
       "\n",
       "#sk-container-id-4 input.sk-toggleable__control:checked~div.sk-toggleable__content {\n",
       "  /* Expand drop-down */\n",
       "  max-height: 200px;\n",
       "  max-width: 100%;\n",
       "  overflow: auto;\n",
       "}\n",
       "\n",
       "#sk-container-id-4 input.sk-toggleable__control:checked~label.sk-toggleable__label-arrow:before {\n",
       "  content: \"▾\";\n",
       "}\n",
       "\n",
       "/* Pipeline/ColumnTransformer-specific style */\n",
       "\n",
       "#sk-container-id-4 div.sk-label input.sk-toggleable__control:checked~label.sk-toggleable__label {\n",
       "  color: var(--sklearn-color-text);\n",
       "  background-color: var(--sklearn-color-unfitted-level-2);\n",
       "}\n",
       "\n",
       "#sk-container-id-4 div.sk-label.fitted input.sk-toggleable__control:checked~label.sk-toggleable__label {\n",
       "  background-color: var(--sklearn-color-fitted-level-2);\n",
       "}\n",
       "\n",
       "/* Estimator-specific style */\n",
       "\n",
       "/* Colorize estimator box */\n",
       "#sk-container-id-4 div.sk-estimator input.sk-toggleable__control:checked~label.sk-toggleable__label {\n",
       "  /* unfitted */\n",
       "  background-color: var(--sklearn-color-unfitted-level-2);\n",
       "}\n",
       "\n",
       "#sk-container-id-4 div.sk-estimator.fitted input.sk-toggleable__control:checked~label.sk-toggleable__label {\n",
       "  /* fitted */\n",
       "  background-color: var(--sklearn-color-fitted-level-2);\n",
       "}\n",
       "\n",
       "#sk-container-id-4 div.sk-label label.sk-toggleable__label,\n",
       "#sk-container-id-4 div.sk-label label {\n",
       "  /* The background is the default theme color */\n",
       "  color: var(--sklearn-color-text-on-default-background);\n",
       "}\n",
       "\n",
       "/* On hover, darken the color of the background */\n",
       "#sk-container-id-4 div.sk-label:hover label.sk-toggleable__label {\n",
       "  color: var(--sklearn-color-text);\n",
       "  background-color: var(--sklearn-color-unfitted-level-2);\n",
       "}\n",
       "\n",
       "/* Label box, darken color on hover, fitted */\n",
       "#sk-container-id-4 div.sk-label.fitted:hover label.sk-toggleable__label.fitted {\n",
       "  color: var(--sklearn-color-text);\n",
       "  background-color: var(--sklearn-color-fitted-level-2);\n",
       "}\n",
       "\n",
       "/* Estimator label */\n",
       "\n",
       "#sk-container-id-4 div.sk-label label {\n",
       "  font-family: monospace;\n",
       "  font-weight: bold;\n",
       "  display: inline-block;\n",
       "  line-height: 1.2em;\n",
       "}\n",
       "\n",
       "#sk-container-id-4 div.sk-label-container {\n",
       "  text-align: center;\n",
       "}\n",
       "\n",
       "/* Estimator-specific */\n",
       "#sk-container-id-4 div.sk-estimator {\n",
       "  font-family: monospace;\n",
       "  border: 1px dotted var(--sklearn-color-border-box);\n",
       "  border-radius: 0.25em;\n",
       "  box-sizing: border-box;\n",
       "  margin-bottom: 0.5em;\n",
       "  /* unfitted */\n",
       "  background-color: var(--sklearn-color-unfitted-level-0);\n",
       "}\n",
       "\n",
       "#sk-container-id-4 div.sk-estimator.fitted {\n",
       "  /* fitted */\n",
       "  background-color: var(--sklearn-color-fitted-level-0);\n",
       "}\n",
       "\n",
       "/* on hover */\n",
       "#sk-container-id-4 div.sk-estimator:hover {\n",
       "  /* unfitted */\n",
       "  background-color: var(--sklearn-color-unfitted-level-2);\n",
       "}\n",
       "\n",
       "#sk-container-id-4 div.sk-estimator.fitted:hover {\n",
       "  /* fitted */\n",
       "  background-color: var(--sklearn-color-fitted-level-2);\n",
       "}\n",
       "\n",
       "/* Specification for estimator info (e.g. \"i\" and \"?\") */\n",
       "\n",
       "/* Common style for \"i\" and \"?\" */\n",
       "\n",
       ".sk-estimator-doc-link,\n",
       "a:link.sk-estimator-doc-link,\n",
       "a:visited.sk-estimator-doc-link {\n",
       "  float: right;\n",
       "  font-size: smaller;\n",
       "  line-height: 1em;\n",
       "  font-family: monospace;\n",
       "  background-color: var(--sklearn-color-background);\n",
       "  border-radius: 1em;\n",
       "  height: 1em;\n",
       "  width: 1em;\n",
       "  text-decoration: none !important;\n",
       "  margin-left: 1ex;\n",
       "  /* unfitted */\n",
       "  border: var(--sklearn-color-unfitted-level-1) 1pt solid;\n",
       "  color: var(--sklearn-color-unfitted-level-1);\n",
       "}\n",
       "\n",
       ".sk-estimator-doc-link.fitted,\n",
       "a:link.sk-estimator-doc-link.fitted,\n",
       "a:visited.sk-estimator-doc-link.fitted {\n",
       "  /* fitted */\n",
       "  border: var(--sklearn-color-fitted-level-1) 1pt solid;\n",
       "  color: var(--sklearn-color-fitted-level-1);\n",
       "}\n",
       "\n",
       "/* On hover */\n",
       "div.sk-estimator:hover .sk-estimator-doc-link:hover,\n",
       ".sk-estimator-doc-link:hover,\n",
       "div.sk-label-container:hover .sk-estimator-doc-link:hover,\n",
       ".sk-estimator-doc-link:hover {\n",
       "  /* unfitted */\n",
       "  background-color: var(--sklearn-color-unfitted-level-3);\n",
       "  color: var(--sklearn-color-background);\n",
       "  text-decoration: none;\n",
       "}\n",
       "\n",
       "div.sk-estimator.fitted:hover .sk-estimator-doc-link.fitted:hover,\n",
       ".sk-estimator-doc-link.fitted:hover,\n",
       "div.sk-label-container:hover .sk-estimator-doc-link.fitted:hover,\n",
       ".sk-estimator-doc-link.fitted:hover {\n",
       "  /* fitted */\n",
       "  background-color: var(--sklearn-color-fitted-level-3);\n",
       "  color: var(--sklearn-color-background);\n",
       "  text-decoration: none;\n",
       "}\n",
       "\n",
       "/* Span, style for the box shown on hovering the info icon */\n",
       ".sk-estimator-doc-link span {\n",
       "  display: none;\n",
       "  z-index: 9999;\n",
       "  position: relative;\n",
       "  font-weight: normal;\n",
       "  right: .2ex;\n",
       "  padding: .5ex;\n",
       "  margin: .5ex;\n",
       "  width: min-content;\n",
       "  min-width: 20ex;\n",
       "  max-width: 50ex;\n",
       "  color: var(--sklearn-color-text);\n",
       "  box-shadow: 2pt 2pt 4pt #999;\n",
       "  /* unfitted */\n",
       "  background: var(--sklearn-color-unfitted-level-0);\n",
       "  border: .5pt solid var(--sklearn-color-unfitted-level-3);\n",
       "}\n",
       "\n",
       ".sk-estimator-doc-link.fitted span {\n",
       "  /* fitted */\n",
       "  background: var(--sklearn-color-fitted-level-0);\n",
       "  border: var(--sklearn-color-fitted-level-3);\n",
       "}\n",
       "\n",
       ".sk-estimator-doc-link:hover span {\n",
       "  display: block;\n",
       "}\n",
       "\n",
       "/* \"?\"-specific style due to the `<a>` HTML tag */\n",
       "\n",
       "#sk-container-id-4 a.estimator_doc_link {\n",
       "  float: right;\n",
       "  font-size: 1rem;\n",
       "  line-height: 1em;\n",
       "  font-family: monospace;\n",
       "  background-color: var(--sklearn-color-background);\n",
       "  border-radius: 1rem;\n",
       "  height: 1rem;\n",
       "  width: 1rem;\n",
       "  text-decoration: none;\n",
       "  /* unfitted */\n",
       "  color: var(--sklearn-color-unfitted-level-1);\n",
       "  border: var(--sklearn-color-unfitted-level-1) 1pt solid;\n",
       "}\n",
       "\n",
       "#sk-container-id-4 a.estimator_doc_link.fitted {\n",
       "  /* fitted */\n",
       "  border: var(--sklearn-color-fitted-level-1) 1pt solid;\n",
       "  color: var(--sklearn-color-fitted-level-1);\n",
       "}\n",
       "\n",
       "/* On hover */\n",
       "#sk-container-id-4 a.estimator_doc_link:hover {\n",
       "  /* unfitted */\n",
       "  background-color: var(--sklearn-color-unfitted-level-3);\n",
       "  color: var(--sklearn-color-background);\n",
       "  text-decoration: none;\n",
       "}\n",
       "\n",
       "#sk-container-id-4 a.estimator_doc_link.fitted:hover {\n",
       "  /* fitted */\n",
       "  background-color: var(--sklearn-color-fitted-level-3);\n",
       "}\n",
       "</style><div id=\"sk-container-id-4\" class=\"sk-top-container\"><div class=\"sk-text-repr-fallback\"><pre>XGBClassifier(base_score=None, booster=None, callbacks=None,\n",
       "              colsample_bylevel=None, colsample_bynode=None,\n",
       "              colsample_bytree=None, device=None, early_stopping_rounds=None,\n",
       "              enable_categorical=False, eval_metric=&#x27;logloss&#x27;,\n",
       "              feature_types=None, gamma=None, grow_policy=None,\n",
       "              importance_type=None, interaction_constraints=None,\n",
       "              learning_rate=0.1, max_bin=None, max_cat_threshold=None,\n",
       "              max_cat_to_onehot=None, max_delta_step=None, max_depth=10,\n",
       "              max_leaves=None, min_child_weight=None, missing=nan,\n",
       "              monotone_constraints=None, multi_strategy=None, n_estimators=500,\n",
       "              n_jobs=None, num_parallel_tree=None, random_state=None, ...)</pre><b>In a Jupyter environment, please rerun this cell to show the HTML representation or trust the notebook. <br />On GitHub, the HTML representation is unable to render, please try loading this page with nbviewer.org.</b></div><div class=\"sk-container\" hidden><div class=\"sk-item\"><div class=\"sk-estimator fitted sk-toggleable\"><input class=\"sk-toggleable__control sk-hidden--visually\" id=\"sk-estimator-id-4\" type=\"checkbox\" checked><label for=\"sk-estimator-id-4\" class=\"sk-toggleable__label fitted sk-toggleable__label-arrow fitted\">&nbsp;XGBClassifier<span class=\"sk-estimator-doc-link fitted\">i<span>Fitted</span></span></label><div class=\"sk-toggleable__content fitted\"><pre>XGBClassifier(base_score=None, booster=None, callbacks=None,\n",
       "              colsample_bylevel=None, colsample_bynode=None,\n",
       "              colsample_bytree=None, device=None, early_stopping_rounds=None,\n",
       "              enable_categorical=False, eval_metric=&#x27;logloss&#x27;,\n",
       "              feature_types=None, gamma=None, grow_policy=None,\n",
       "              importance_type=None, interaction_constraints=None,\n",
       "              learning_rate=0.1, max_bin=None, max_cat_threshold=None,\n",
       "              max_cat_to_onehot=None, max_delta_step=None, max_depth=10,\n",
       "              max_leaves=None, min_child_weight=None, missing=nan,\n",
       "              monotone_constraints=None, multi_strategy=None, n_estimators=500,\n",
       "              n_jobs=None, num_parallel_tree=None, random_state=None, ...)</pre></div> </div></div></div></div>"
      ],
      "text/plain": [
       "XGBClassifier(base_score=None, booster=None, callbacks=None,\n",
       "              colsample_bylevel=None, colsample_bynode=None,\n",
       "              colsample_bytree=None, device=None, early_stopping_rounds=None,\n",
       "              enable_categorical=False, eval_metric='logloss',\n",
       "              feature_types=None, gamma=None, grow_policy=None,\n",
       "              importance_type=None, interaction_constraints=None,\n",
       "              learning_rate=0.1, max_bin=None, max_cat_threshold=None,\n",
       "              max_cat_to_onehot=None, max_delta_step=None, max_depth=10,\n",
       "              max_leaves=None, min_child_weight=None, missing=nan,\n",
       "              monotone_constraints=None, multi_strategy=None, n_estimators=500,\n",
       "              n_jobs=None, num_parallel_tree=None, random_state=None, ...)"
      ]
     },
     "execution_count": 62,
     "metadata": {},
     "output_type": "execute_result"
    }
   ],
   "source": [
    "model2 = XGBClassifier(use_label_encoder=False,max_depth=10,n_estimators=500,learning_rate=0.1, eval_metric='logloss')\n",
    "model2.fit(X_train, y_train)"
   ]
  },
  {
   "cell_type": "code",
   "execution_count": 89,
   "id": "bd53ceb8",
   "metadata": {},
   "outputs": [
    {
     "name": "stdout",
     "output_type": "stream",
     "text": [
      "Accuracy:  0.8108108108108109\n",
      "roc_auc: 0.8108413777346204\n"
     ]
    }
   ],
   "source": [
    "y_pred = model2.predict(X_test)\n",
    "print(\"Accuracy: \", accuracy_score(y_test, y_pred))\n",
    "print(\"roc_auc:\", roc_auc_score(y_test, y_pred))"
   ]
  },
  {
   "cell_type": "code",
   "execution_count": 63,
   "id": "c39247d6",
   "metadata": {},
   "outputs": [],
   "source": [
    "## Using Optuna for parameter Tuning \n",
    "# Split the data\n",
    "X_train_full, X_test, y_train_full, y_test = train_test_split(new_data, y, test_size=0.2, random_state=42)\n",
    "X_train, X_val, y_train, y_val = train_test_split(X_train_full, y_train_full, test_size=0.2, random_state=42)"
   ]
  },
  {
   "cell_type": "markdown",
   "id": "5dd459c2",
   "metadata": {},
   "source": [
    "### Hyper parameter tuning in Xgboost model using Optuna "
   ]
  },
  {
   "cell_type": "code",
   "execution_count": 65,
   "id": "5eb437a2",
   "metadata": {},
   "outputs": [],
   "source": [
    "import optuna\n",
    "from sklearn.model_selection import cross_val_score\n",
    "from xgboost import XGBClassifier"
   ]
  },
  {
   "cell_type": "code",
   "execution_count": 66,
   "id": "7f82ebeb",
   "metadata": {},
   "outputs": [],
   "source": [
    "def objective(trial):\n",
    "    # Define the hyperparameters to tune\n",
    "    param_grid = {\n",
    "        'max_depth': trial.suggest_int('max_depth', 3, 15),\n",
    "        'n_estimators': trial.suggest_int('n_estimators', 100, 1000, step=50),\n",
    "        'learning_rate': trial.suggest_float('learning_rate', 0.01, 0.3, log=True),\n",
    "        'subsample': trial.suggest_float('subsample', 0.5, 1.0),\n",
    "        'colsample_bytree': trial.suggest_float('colsample_bytree', 0.5, 1.0),\n",
    "        'gamma': trial.suggest_float('gamma', 0, 10),\n",
    "    }\n",
    "\n",
    "    # Create the model\n",
    "    model3 = XGBClassifier(use_label_encoder=False, eval_metric='logloss', **param_grid)\n",
    "\n",
    "    # Train on the training set\n",
    "    model3.fit(X_train, y_train)\n",
    "\n",
    "    # Evaluate on the validation set\n",
    "    val_accuracy = model3.score(X_val, y_val)\n",
    "    return val_accuracy"
   ]
  },
  {
   "cell_type": "code",
   "execution_count": 67,
   "id": "1dd78626",
   "metadata": {
    "scrolled": true
   },
   "outputs": [
    {
     "name": "stderr",
     "output_type": "stream",
     "text": [
      "[I 2025-01-23 22:40:22,755] A new study created in memory with name: no-name-22714512-33f7-469f-a99f-650b1cce9d8a\n",
      "c:\\Users\\heman\\AppData\\Local\\Programs\\Python\\Python312\\Lib\\site-packages\\xgboost\\core.py:158: UserWarning: [22:40:23] WARNING: C:\\buildkite-agent\\builds\\buildkite-windows-cpu-autoscaling-group-i-0c55ff5f71b100e98-1\\xgboost\\xgboost-ci-windows\\src\\learner.cc:740: \n",
      "Parameters: { \"use_label_encoder\" } are not used.\n",
      "\n",
      "  warnings.warn(smsg, UserWarning)\n",
      "[I 2025-01-23 22:40:38,004] Trial 0 finished with value: 0.8059071729957806 and parameters: {'max_depth': 10, 'n_estimators': 400, 'learning_rate': 0.22345121212982516, 'subsample': 0.8640254476674822, 'colsample_bytree': 0.9536748532340815, 'gamma': 0.8382143051929092}. Best is trial 0 with value: 0.8059071729957806.\n",
      "c:\\Users\\heman\\AppData\\Local\\Programs\\Python\\Python312\\Lib\\site-packages\\xgboost\\core.py:158: UserWarning: [22:40:38] WARNING: C:\\buildkite-agent\\builds\\buildkite-windows-cpu-autoscaling-group-i-0c55ff5f71b100e98-1\\xgboost\\xgboost-ci-windows\\src\\learner.cc:740: \n",
      "Parameters: { \"use_label_encoder\" } are not used.\n",
      "\n",
      "  warnings.warn(smsg, UserWarning)\n",
      "[I 2025-01-23 22:41:06,194] Trial 1 finished with value: 0.79957805907173 and parameters: {'max_depth': 9, 'n_estimators': 350, 'learning_rate': 0.012287368776913015, 'subsample': 0.7536905286161034, 'colsample_bytree': 0.533769270376965, 'gamma': 5.33552753805602}. Best is trial 0 with value: 0.8059071729957806.\n",
      "c:\\Users\\heman\\AppData\\Local\\Programs\\Python\\Python312\\Lib\\site-packages\\xgboost\\core.py:158: UserWarning: [22:41:06] WARNING: C:\\buildkite-agent\\builds\\buildkite-windows-cpu-autoscaling-group-i-0c55ff5f71b100e98-1\\xgboost\\xgboost-ci-windows\\src\\learner.cc:740: \n",
      "Parameters: { \"use_label_encoder\" } are not used.\n",
      "\n",
      "  warnings.warn(smsg, UserWarning)\n",
      "[I 2025-01-23 22:41:20,027] Trial 2 finished with value: 0.7742616033755274 and parameters: {'max_depth': 10, 'n_estimators': 250, 'learning_rate': 0.19196274215422857, 'subsample': 0.8814932204791777, 'colsample_bytree': 0.6621114375723643, 'gamma': 0.18702540642897447}. Best is trial 0 with value: 0.8059071729957806.\n",
      "c:\\Users\\heman\\AppData\\Local\\Programs\\Python\\Python312\\Lib\\site-packages\\xgboost\\core.py:158: UserWarning: [22:41:20] WARNING: C:\\buildkite-agent\\builds\\buildkite-windows-cpu-autoscaling-group-i-0c55ff5f71b100e98-1\\xgboost\\xgboost-ci-windows\\src\\learner.cc:740: \n",
      "Parameters: { \"use_label_encoder\" } are not used.\n",
      "\n",
      "  warnings.warn(smsg, UserWarning)\n",
      "[I 2025-01-23 22:41:26,602] Trial 3 finished with value: 0.8164556962025317 and parameters: {'max_depth': 10, 'n_estimators': 100, 'learning_rate': 0.1968650769334202, 'subsample': 0.8243398530968078, 'colsample_bytree': 0.6809928963641454, 'gamma': 2.7130350828263605}. Best is trial 3 with value: 0.8164556962025317.\n",
      "c:\\Users\\heman\\AppData\\Local\\Programs\\Python\\Python312\\Lib\\site-packages\\xgboost\\core.py:158: UserWarning: [22:41:27] WARNING: C:\\buildkite-agent\\builds\\buildkite-windows-cpu-autoscaling-group-i-0c55ff5f71b100e98-1\\xgboost\\xgboost-ci-windows\\src\\learner.cc:740: \n",
      "Parameters: { \"use_label_encoder\" } are not used.\n",
      "\n",
      "  warnings.warn(smsg, UserWarning)\n",
      "[I 2025-01-23 22:41:44,458] Trial 4 finished with value: 0.7953586497890295 and parameters: {'max_depth': 8, 'n_estimators': 650, 'learning_rate': 0.06155336589769749, 'subsample': 0.6070714174599845, 'colsample_bytree': 0.958192163288998, 'gamma': 8.690364677619485}. Best is trial 3 with value: 0.8164556962025317.\n"
     ]
    },
    {
     "name": "stdout",
     "output_type": "stream",
     "text": [
      "Best Hyperparameters: {'max_depth': 10, 'n_estimators': 100, 'learning_rate': 0.1968650769334202, 'subsample': 0.8243398530968078, 'colsample_bytree': 0.6809928963641454, 'gamma': 2.7130350828263605}\n"
     ]
    }
   ],
   "source": [
    "# Create a study\n",
    "study = optuna.create_study(direction='maximize')\n",
    "\n",
    "# Run the optimization\n",
    "study.optimize(objective, n_trials=5, timeout=3600)  # 5 trials or 1 hour\n",
    "\n",
    "# Print the best hyperparameters\n",
    "print(\"Best Hyperparameters:\", study.best_params)"
   ]
  },
  {
   "cell_type": "code",
   "execution_count": 68,
   "id": "f0590900",
   "metadata": {},
   "outputs": [
    {
     "name": "stderr",
     "output_type": "stream",
     "text": [
      "c:\\Users\\heman\\AppData\\Local\\Programs\\Python\\Python312\\Lib\\site-packages\\xgboost\\core.py:158: UserWarning: [22:43:25] WARNING: C:\\buildkite-agent\\builds\\buildkite-windows-cpu-autoscaling-group-i-0c55ff5f71b100e98-1\\xgboost\\xgboost-ci-windows\\src\\learner.cc:740: \n",
      "Parameters: { \"use_label_encoder\" } are not used.\n",
      "\n",
      "  warnings.warn(smsg, UserWarning)\n"
     ]
    },
    {
     "name": "stdout",
     "output_type": "stream",
     "text": [
      "Test Accuracy: 0.7989864864864865\n",
      "roc_auc: 0.7995643075234141\n"
     ]
    }
   ],
   "source": [
    "best_params = study.best_params\n",
    "model3 = XGBClassifier(use_label_encoder=False, eval_metric='logloss', **best_params)\n",
    "model3.fit(X_train, y_train)\n",
    "\n",
    "# Evaluate the model\n",
    "accuracy = model3.score(X_test, y_test)\n",
    "y_pred = model3.predict(X_test)\n",
    "print(f\"Test Accuracy: {accuracy}\")\n",
    "print(\"roc_auc:\", roc_auc_score(y_test, y_pred))"
   ]
  },
  {
   "cell_type": "markdown",
   "id": "e37003a0",
   "metadata": {},
   "source": [
    "## Building ANN"
   ]
  },
  {
   "cell_type": "code",
   "execution_count": 94,
   "id": "b9d7df51",
   "metadata": {},
   "outputs": [],
   "source": [
    "## Using the ANN for predictions "
   ]
  },
  {
   "cell_type": "code",
   "execution_count": 69,
   "id": "d42fb503",
   "metadata": {},
   "outputs": [],
   "source": [
    "import tensorflow as tf\n",
    "from tensorflow.keras.models import Sequential\n",
    "from tensorflow.keras.layers import Dense, Dropout, BatchNormalization\n",
    "from tensorflow.keras.callbacks import EarlyStopping"
   ]
  },
  {
   "cell_type": "code",
   "execution_count": 70,
   "id": "376e000b",
   "metadata": {},
   "outputs": [
    {
     "name": "stderr",
     "output_type": "stream",
     "text": [
      "c:\\Users\\heman\\AppData\\Local\\Programs\\Python\\Python312\\Lib\\site-packages\\keras\\src\\layers\\core\\dense.py:87: UserWarning: Do not pass an `input_shape`/`input_dim` argument to a layer. When using Sequential models, prefer using an `Input(shape)` object as the first layer in the model instead.\n",
      "  super().__init__(activity_regularizer=activity_regularizer, **kwargs)\n"
     ]
    }
   ],
   "source": [
    "model = Sequential([\n",
    "    # Input layer\n",
    "    Dense(256, activation='relu', input_shape=(X_train.shape[1],)),\n",
    "    BatchNormalization(),  # Normalize inputs for faster convergence\n",
    "    Dropout(0.1),  # Dropout to prevent overfitting\n",
    "\n",
    "    # Hidden layers\n",
    "    Dense(128, activation='relu'),\n",
    "    BatchNormalization(),\n",
    "    Dropout(0.1),\n",
    "\n",
    "    Dense(64, activation='relu'),\n",
    "    BatchNormalization(),\n",
    "    Dropout(0.1),\n",
    "\n",
    "    Dense(32, activation='relu'),\n",
    "    BatchNormalization(),\n",
    "    Dropout(0.1),\n",
    "\n",
    "    # Output layer\n",
    "    Dense(1, activation='sigmoid')  # For binary classification\n",
    "])\n"
   ]
  },
  {
   "cell_type": "code",
   "execution_count": 71,
   "id": "239fcfce",
   "metadata": {},
   "outputs": [],
   "source": [
    "model.compile(\n",
    "    optimizer='adam',\n",
    "    loss='binary_crossentropy',  # For binary classification\n",
    "    metrics=['accuracy']\n",
    ")\n"
   ]
  },
  {
   "cell_type": "code",
   "execution_count": 72,
   "id": "356572a9",
   "metadata": {
    "scrolled": true
   },
   "outputs": [
    {
     "name": "stdout",
     "output_type": "stream",
     "text": [
      "Epoch 1/50\n",
      "\u001b[1m190/190\u001b[0m \u001b[32m━━━━━━━━━━━━━━━━━━━━\u001b[0m\u001b[37m\u001b[0m \u001b[1m7s\u001b[0m 7ms/step - accuracy: 0.7140 - loss: 0.5795 - val_accuracy: 0.7678 - val_loss: 0.4523\n",
      "Epoch 2/50\n",
      "\u001b[1m190/190\u001b[0m \u001b[32m━━━━━━━━━━━━━━━━━━━━\u001b[0m\u001b[37m\u001b[0m \u001b[1m1s\u001b[0m 5ms/step - accuracy: 0.7647 - loss: 0.4795 - val_accuracy: 0.7995 - val_loss: 0.4135\n",
      "Epoch 3/50\n",
      "\u001b[1m190/190\u001b[0m \u001b[32m━━━━━━━━━━━━━━━━━━━━\u001b[0m\u001b[37m\u001b[0m \u001b[1m1s\u001b[0m 5ms/step - accuracy: 0.7804 - loss: 0.4174 - val_accuracy: 0.8100 - val_loss: 0.4538\n",
      "Epoch 4/50\n",
      "\u001b[1m190/190\u001b[0m \u001b[32m━━━━━━━━━━━━━━━━━━━━\u001b[0m\u001b[37m\u001b[0m \u001b[1m1s\u001b[0m 5ms/step - accuracy: 0.7958 - loss: 0.4163 - val_accuracy: 0.8206 - val_loss: 0.4047\n",
      "Epoch 5/50\n",
      "\u001b[1m190/190\u001b[0m \u001b[32m━━━━━━━━━━━━━━━━━━━━\u001b[0m\u001b[37m\u001b[0m \u001b[1m1s\u001b[0m 5ms/step - accuracy: 0.8198 - loss: 0.3826 - val_accuracy: 0.6570 - val_loss: 0.6454\n",
      "Epoch 6/50\n",
      "\u001b[1m190/190\u001b[0m \u001b[32m━━━━━━━━━━━━━━━━━━━━\u001b[0m\u001b[37m\u001b[0m \u001b[1m1s\u001b[0m 5ms/step - accuracy: 0.8166 - loss: 0.3815 - val_accuracy: 0.7573 - val_loss: 0.4615\n",
      "Epoch 7/50\n",
      "\u001b[1m190/190\u001b[0m \u001b[32m━━━━━━━━━━━━━━━━━━━━\u001b[0m\u001b[37m\u001b[0m \u001b[1m1s\u001b[0m 5ms/step - accuracy: 0.8283 - loss: 0.3656 - val_accuracy: 0.7836 - val_loss: 0.3584\n",
      "Epoch 8/50\n",
      "\u001b[1m190/190\u001b[0m \u001b[32m━━━━━━━━━━━━━━━━━━━━\u001b[0m\u001b[37m\u001b[0m \u001b[1m1s\u001b[0m 5ms/step - accuracy: 0.7869 - loss: 0.4071 - val_accuracy: 0.7071 - val_loss: 0.4974\n",
      "Epoch 9/50\n",
      "\u001b[1m190/190\u001b[0m \u001b[32m━━━━━━━━━━━━━━━━━━━━\u001b[0m\u001b[37m\u001b[0m \u001b[1m1s\u001b[0m 5ms/step - accuracy: 0.8210 - loss: 0.3938 - val_accuracy: 0.7836 - val_loss: 0.3820\n",
      "Epoch 10/50\n",
      "\u001b[1m190/190\u001b[0m \u001b[32m━━━━━━━━━━━━━━━━━━━━\u001b[0m\u001b[37m\u001b[0m \u001b[1m1s\u001b[0m 5ms/step - accuracy: 0.8052 - loss: 0.3794 - val_accuracy: 0.6623 - val_loss: 0.5945\n",
      "Epoch 11/50\n",
      "\u001b[1m190/190\u001b[0m \u001b[32m━━━━━━━━━━━━━━━━━━━━\u001b[0m\u001b[37m\u001b[0m \u001b[1m1s\u001b[0m 5ms/step - accuracy: 0.8153 - loss: 0.3606 - val_accuracy: 0.7098 - val_loss: 0.6711\n",
      "Epoch 12/50\n",
      "\u001b[1m190/190\u001b[0m \u001b[32m━━━━━━━━━━━━━━━━━━━━\u001b[0m\u001b[37m\u001b[0m \u001b[1m1s\u001b[0m 5ms/step - accuracy: 0.8400 - loss: 0.3414 - val_accuracy: 0.6649 - val_loss: 0.5441\n",
      "Epoch 13/50\n",
      "\u001b[1m190/190\u001b[0m \u001b[32m━━━━━━━━━━━━━━━━━━━━\u001b[0m\u001b[37m\u001b[0m \u001b[1m1s\u001b[0m 5ms/step - accuracy: 0.8260 - loss: 0.3538 - val_accuracy: 0.8153 - val_loss: 0.3580\n",
      "Epoch 14/50\n",
      "\u001b[1m190/190\u001b[0m \u001b[32m━━━━━━━━━━━━━━━━━━━━\u001b[0m\u001b[37m\u001b[0m \u001b[1m1s\u001b[0m 5ms/step - accuracy: 0.8300 - loss: 0.3526 - val_accuracy: 0.7414 - val_loss: 0.5293\n",
      "Epoch 15/50\n",
      "\u001b[1m190/190\u001b[0m \u001b[32m━━━━━━━━━━━━━━━━━━━━\u001b[0m\u001b[37m\u001b[0m \u001b[1m1s\u001b[0m 5ms/step - accuracy: 0.8001 - loss: 0.3735 - val_accuracy: 0.6253 - val_loss: 0.6952\n",
      "Epoch 16/50\n",
      "\u001b[1m190/190\u001b[0m \u001b[32m━━━━━━━━━━━━━━━━━━━━\u001b[0m\u001b[37m\u001b[0m \u001b[1m1s\u001b[0m 5ms/step - accuracy: 0.8193 - loss: 0.3413 - val_accuracy: 0.7388 - val_loss: 0.5430\n",
      "Epoch 17/50\n",
      "\u001b[1m190/190\u001b[0m \u001b[32m━━━━━━━━━━━━━━━━━━━━\u001b[0m\u001b[37m\u001b[0m \u001b[1m1s\u001b[0m 5ms/step - accuracy: 0.8112 - loss: 0.3619 - val_accuracy: 0.7916 - val_loss: 0.3639\n",
      "Epoch 18/50\n",
      "\u001b[1m190/190\u001b[0m \u001b[32m━━━━━━━━━━━━━━━━━━━━\u001b[0m\u001b[37m\u001b[0m \u001b[1m1s\u001b[0m 5ms/step - accuracy: 0.8133 - loss: 0.3683 - val_accuracy: 0.5646 - val_loss: 0.5945\n",
      "Epoch 19/50\n",
      "\u001b[1m190/190\u001b[0m \u001b[32m━━━━━━━━━━━━━━━━━━━━\u001b[0m\u001b[37m\u001b[0m \u001b[1m1s\u001b[0m 5ms/step - accuracy: 0.8191 - loss: 0.3555 - val_accuracy: 0.8285 - val_loss: 0.4050\n",
      "Epoch 20/50\n",
      "\u001b[1m190/190\u001b[0m \u001b[32m━━━━━━━━━━━━━━━━━━━━\u001b[0m\u001b[37m\u001b[0m \u001b[1m1s\u001b[0m 5ms/step - accuracy: 0.8032 - loss: 0.3561 - val_accuracy: 0.7309 - val_loss: 0.7236\n",
      "Epoch 21/50\n",
      "\u001b[1m190/190\u001b[0m \u001b[32m━━━━━━━━━━━━━━━━━━━━\u001b[0m\u001b[37m\u001b[0m \u001b[1m1s\u001b[0m 5ms/step - accuracy: 0.8342 - loss: 0.3418 - val_accuracy: 0.7968 - val_loss: 0.3502\n",
      "Epoch 22/50\n",
      "\u001b[1m190/190\u001b[0m \u001b[32m━━━━━━━━━━━━━━━━━━━━\u001b[0m\u001b[37m\u001b[0m \u001b[1m1s\u001b[0m 5ms/step - accuracy: 0.8438 - loss: 0.3251 - val_accuracy: 0.7942 - val_loss: 0.3132\n",
      "Epoch 23/50\n",
      "\u001b[1m190/190\u001b[0m \u001b[32m━━━━━━━━━━━━━━━━━━━━\u001b[0m\u001b[37m\u001b[0m \u001b[1m1s\u001b[0m 5ms/step - accuracy: 0.8282 - loss: 0.3341 - val_accuracy: 0.7467 - val_loss: 0.4148\n",
      "Epoch 24/50\n",
      "\u001b[1m190/190\u001b[0m \u001b[32m━━━━━━━━━━━━━━━━━━━━\u001b[0m\u001b[37m\u001b[0m \u001b[1m1s\u001b[0m 5ms/step - accuracy: 0.8168 - loss: 0.3281 - val_accuracy: 0.7599 - val_loss: 0.4362\n",
      "Epoch 25/50\n",
      "\u001b[1m190/190\u001b[0m \u001b[32m━━━━━━━━━━━━━━━━━━━━\u001b[0m\u001b[37m\u001b[0m \u001b[1m1s\u001b[0m 5ms/step - accuracy: 0.8380 - loss: 0.3421 - val_accuracy: 0.7071 - val_loss: 0.7347\n",
      "Epoch 26/50\n",
      "\u001b[1m190/190\u001b[0m \u001b[32m━━━━━━━━━━━━━━━━━━━━\u001b[0m\u001b[37m\u001b[0m \u001b[1m1s\u001b[0m 5ms/step - accuracy: 0.8225 - loss: 0.3468 - val_accuracy: 0.7071 - val_loss: 0.4887\n",
      "Epoch 27/50\n",
      "\u001b[1m190/190\u001b[0m \u001b[32m━━━━━━━━━━━━━━━━━━━━\u001b[0m\u001b[37m\u001b[0m \u001b[1m1s\u001b[0m 5ms/step - accuracy: 0.8320 - loss: 0.3458 - val_accuracy: 0.7256 - val_loss: 0.5383\n",
      "Epoch 28/50\n",
      "\u001b[1m190/190\u001b[0m \u001b[32m━━━━━━━━━━━━━━━━━━━━\u001b[0m\u001b[37m\u001b[0m \u001b[1m1s\u001b[0m 5ms/step - accuracy: 0.8551 - loss: 0.2941 - val_accuracy: 0.8259 - val_loss: 0.3258\n",
      "Epoch 29/50\n",
      "\u001b[1m190/190\u001b[0m \u001b[32m━━━━━━━━━━━━━━━━━━━━\u001b[0m\u001b[37m\u001b[0m \u001b[1m1s\u001b[0m 5ms/step - accuracy: 0.8384 - loss: 0.3198 - val_accuracy: 0.7731 - val_loss: 0.4609\n",
      "Epoch 30/50\n",
      "\u001b[1m190/190\u001b[0m \u001b[32m━━━━━━━━━━━━━━━━━━━━\u001b[0m\u001b[37m\u001b[0m \u001b[1m1s\u001b[0m 5ms/step - accuracy: 0.8354 - loss: 0.3332 - val_accuracy: 0.7836 - val_loss: 0.3888\n",
      "Epoch 31/50\n",
      "\u001b[1m190/190\u001b[0m \u001b[32m━━━━━━━━━━━━━━━━━━━━\u001b[0m\u001b[37m\u001b[0m \u001b[1m1s\u001b[0m 5ms/step - accuracy: 0.8355 - loss: 0.3508 - val_accuracy: 0.8047 - val_loss: 0.2963\n",
      "Epoch 32/50\n",
      "\u001b[1m190/190\u001b[0m \u001b[32m━━━━━━━━━━━━━━━━━━━━\u001b[0m\u001b[37m\u001b[0m \u001b[1m1s\u001b[0m 5ms/step - accuracy: 0.8383 - loss: 0.3442 - val_accuracy: 0.8047 - val_loss: 0.3751\n",
      "Epoch 33/50\n",
      "\u001b[1m190/190\u001b[0m \u001b[32m━━━━━━━━━━━━━━━━━━━━\u001b[0m\u001b[37m\u001b[0m \u001b[1m1s\u001b[0m 5ms/step - accuracy: 0.8312 - loss: 0.3334 - val_accuracy: 0.8285 - val_loss: 0.3508\n",
      "Epoch 34/50\n",
      "\u001b[1m190/190\u001b[0m \u001b[32m━━━━━━━━━━━━━━━━━━━━\u001b[0m\u001b[37m\u001b[0m \u001b[1m1s\u001b[0m 5ms/step - accuracy: 0.8396 - loss: 0.3023 - val_accuracy: 0.5277 - val_loss: 1.5825\n",
      "Epoch 35/50\n",
      "\u001b[1m190/190\u001b[0m \u001b[32m━━━━━━━━━━━━━━━━━━━━\u001b[0m\u001b[37m\u001b[0m \u001b[1m1s\u001b[0m 5ms/step - accuracy: 0.8568 - loss: 0.2947 - val_accuracy: 0.5119 - val_loss: 5.0702\n",
      "Epoch 36/50\n",
      "\u001b[1m190/190\u001b[0m \u001b[32m━━━━━━━━━━━━━━━━━━━━\u001b[0m\u001b[37m\u001b[0m \u001b[1m1s\u001b[0m 5ms/step - accuracy: 0.8184 - loss: 0.3427 - val_accuracy: 0.8417 - val_loss: 0.3379\n",
      "Epoch 37/50\n",
      "\u001b[1m190/190\u001b[0m \u001b[32m━━━━━━━━━━━━━━━━━━━━\u001b[0m\u001b[37m\u001b[0m \u001b[1m1s\u001b[0m 5ms/step - accuracy: 0.8662 - loss: 0.2883 - val_accuracy: 0.7968 - val_loss: 0.5153\n",
      "Epoch 38/50\n",
      "\u001b[1m190/190\u001b[0m \u001b[32m━━━━━━━━━━━━━━━━━━━━\u001b[0m\u001b[37m\u001b[0m \u001b[1m1s\u001b[0m 5ms/step - accuracy: 0.8454 - loss: 0.3199 - val_accuracy: 0.7098 - val_loss: 0.5883\n",
      "Epoch 39/50\n",
      "\u001b[1m190/190\u001b[0m \u001b[32m━━━━━━━━━━━━━━━━━━━━\u001b[0m\u001b[37m\u001b[0m \u001b[1m1s\u001b[0m 5ms/step - accuracy: 0.8451 - loss: 0.2964 - val_accuracy: 0.7625 - val_loss: 0.4732\n",
      "Epoch 40/50\n",
      "\u001b[1m190/190\u001b[0m \u001b[32m━━━━━━━━━━━━━━━━━━━━\u001b[0m\u001b[37m\u001b[0m \u001b[1m1s\u001b[0m 5ms/step - accuracy: 0.8356 - loss: 0.3233 - val_accuracy: 0.8206 - val_loss: 0.3457\n",
      "Epoch 41/50\n",
      "\u001b[1m190/190\u001b[0m \u001b[32m━━━━━━━━━━━━━━━━━━━━\u001b[0m\u001b[37m\u001b[0m \u001b[1m1s\u001b[0m 5ms/step - accuracy: 0.8681 - loss: 0.2718 - val_accuracy: 0.8364 - val_loss: 0.4682\n",
      "Epoch 42/50\n",
      "\u001b[1m190/190\u001b[0m \u001b[32m━━━━━━━━━━━━━━━━━━━━\u001b[0m\u001b[37m\u001b[0m \u001b[1m1s\u001b[0m 5ms/step - accuracy: 0.8456 - loss: 0.2935 - val_accuracy: 0.4960 - val_loss: 4.4405\n",
      "Epoch 43/50\n",
      "\u001b[1m190/190\u001b[0m \u001b[32m━━━━━━━━━━━━━━━━━━━━\u001b[0m\u001b[37m\u001b[0m \u001b[1m1s\u001b[0m 5ms/step - accuracy: 0.8531 - loss: 0.2831 - val_accuracy: 0.5673 - val_loss: 1.3946\n",
      "Epoch 44/50\n",
      "\u001b[1m190/190\u001b[0m \u001b[32m━━━━━━━━━━━━━━━━━━━━\u001b[0m\u001b[37m\u001b[0m \u001b[1m1s\u001b[0m 5ms/step - accuracy: 0.8771 - loss: 0.2767 - val_accuracy: 0.7414 - val_loss: 0.4325\n",
      "Epoch 45/50\n",
      "\u001b[1m190/190\u001b[0m \u001b[32m━━━━━━━━━━━━━━━━━━━━\u001b[0m\u001b[37m\u001b[0m \u001b[1m1s\u001b[0m 5ms/step - accuracy: 0.8333 - loss: 0.3195 - val_accuracy: 0.7704 - val_loss: 0.4038\n",
      "Epoch 46/50\n",
      "\u001b[1m190/190\u001b[0m \u001b[32m━━━━━━━━━━━━━━━━━━━━\u001b[0m\u001b[37m\u001b[0m \u001b[1m1s\u001b[0m 5ms/step - accuracy: 0.8528 - loss: 0.2880 - val_accuracy: 0.7995 - val_loss: 0.3298\n",
      "Epoch 47/50\n",
      "\u001b[1m190/190\u001b[0m \u001b[32m━━━━━━━━━━━━━━━━━━━━\u001b[0m\u001b[37m\u001b[0m \u001b[1m1s\u001b[0m 5ms/step - accuracy: 0.8374 - loss: 0.2882 - val_accuracy: 0.8153 - val_loss: 0.2776\n",
      "Epoch 48/50\n",
      "\u001b[1m190/190\u001b[0m \u001b[32m━━━━━━━━━━━━━━━━━━━━\u001b[0m\u001b[37m\u001b[0m \u001b[1m1s\u001b[0m 5ms/step - accuracy: 0.8371 - loss: 0.3264 - val_accuracy: 0.7625 - val_loss: 0.5806\n",
      "Epoch 49/50\n",
      "\u001b[1m190/190\u001b[0m \u001b[32m━━━━━━━━━━━━━━━━━━━━\u001b[0m\u001b[37m\u001b[0m \u001b[1m1s\u001b[0m 5ms/step - accuracy: 0.8664 - loss: 0.2711 - val_accuracy: 0.8206 - val_loss: 0.2867\n",
      "Epoch 50/50\n",
      "\u001b[1m190/190\u001b[0m \u001b[32m━━━━━━━━━━━━━━━━━━━━\u001b[0m\u001b[37m\u001b[0m \u001b[1m1s\u001b[0m 5ms/step - accuracy: 0.8270 - loss: 0.3148 - val_accuracy: 0.8206 - val_loss: 0.3874\n"
     ]
    }
   ],
   "source": [
    "history = model.fit(\n",
    "    X_train,\n",
    "    y_train,\n",
    "    epochs=50,  # Increase max epochs for deeper models\n",
    "    batch_size=8,\n",
    "    validation_split=0.2,\n",
    "    verbose=1\n",
    ")\n"
   ]
  },
  {
   "cell_type": "code",
   "execution_count": 73,
   "id": "27de4a7b",
   "metadata": {},
   "outputs": [
    {
     "name": "stdout",
     "output_type": "stream",
     "text": [
      "\u001b[1m19/19\u001b[0m \u001b[32m━━━━━━━━━━━━━━━━━━━━\u001b[0m\u001b[37m\u001b[0m \u001b[1m0s\u001b[0m 12ms/step\n"
     ]
    }
   ],
   "source": [
    "y_test_pred_nn = model.predict(X_test)"
   ]
  },
  {
   "cell_type": "code",
   "execution_count": 74,
   "id": "c1725c53",
   "metadata": {},
   "outputs": [],
   "source": [
    "y_test_pred_nn = [i[0] for i in y_test_pred_nn]"
   ]
  },
  {
   "cell_type": "markdown",
   "id": "8aa1a8b1",
   "metadata": {},
   "source": [
    "## Building Ensemble using the xgboost predictions , ANN predictions"
   ]
  },
  {
   "cell_type": "code",
   "execution_count": 75,
   "id": "aacdc06b",
   "metadata": {},
   "outputs": [],
   "source": [
    "y_test_pred_proba_xgb = model2.predict_proba(X_test)[:, 1]"
   ]
  },
  {
   "cell_type": "code",
   "execution_count": 76,
   "id": "3822dd1f",
   "metadata": {},
   "outputs": [],
   "source": [
    "test_df = pd.DataFrame()\n",
    "test_df['actuals'] = y_test\n",
    "test_df['xgb_pred'] = y_test_pred_proba_xgb\n",
    "test_df['nn_pred'] = y_test_pred_nn"
   ]
  },
  {
   "cell_type": "code",
   "execution_count": 77,
   "id": "9f245ec9",
   "metadata": {},
   "outputs": [
    {
     "data": {
      "text/html": [
       "<div>\n",
       "<style scoped>\n",
       "    .dataframe tbody tr th:only-of-type {\n",
       "        vertical-align: middle;\n",
       "    }\n",
       "\n",
       "    .dataframe tbody tr th {\n",
       "        vertical-align: top;\n",
       "    }\n",
       "\n",
       "    .dataframe thead th {\n",
       "        text-align: right;\n",
       "    }\n",
       "</style>\n",
       "<table border=\"1\" class=\"dataframe\">\n",
       "  <thead>\n",
       "    <tr style=\"text-align: right;\">\n",
       "      <th></th>\n",
       "      <th>actuals</th>\n",
       "      <th>xgb_pred</th>\n",
       "      <th>nn_pred</th>\n",
       "    </tr>\n",
       "  </thead>\n",
       "  <tbody>\n",
       "    <tr>\n",
       "      <th>2012</th>\n",
       "      <td>0</td>\n",
       "      <td>0.000142</td>\n",
       "      <td>0.007421</td>\n",
       "    </tr>\n",
       "    <tr>\n",
       "      <th>1688</th>\n",
       "      <td>0</td>\n",
       "      <td>0.006828</td>\n",
       "      <td>0.545954</td>\n",
       "    </tr>\n",
       "    <tr>\n",
       "      <th>764</th>\n",
       "      <td>0</td>\n",
       "      <td>0.000087</td>\n",
       "      <td>0.005635</td>\n",
       "    </tr>\n",
       "    <tr>\n",
       "      <th>2057</th>\n",
       "      <td>0</td>\n",
       "      <td>0.000332</td>\n",
       "      <td>0.027185</td>\n",
       "    </tr>\n",
       "    <tr>\n",
       "      <th>2025</th>\n",
       "      <td>0</td>\n",
       "      <td>0.000122</td>\n",
       "      <td>0.004589</td>\n",
       "    </tr>\n",
       "    <tr>\n",
       "      <th>...</th>\n",
       "      <td>...</td>\n",
       "      <td>...</td>\n",
       "      <td>...</td>\n",
       "    </tr>\n",
       "    <tr>\n",
       "      <th>809</th>\n",
       "      <td>0</td>\n",
       "      <td>0.000018</td>\n",
       "      <td>0.002083</td>\n",
       "    </tr>\n",
       "    <tr>\n",
       "      <th>691</th>\n",
       "      <td>0</td>\n",
       "      <td>0.000025</td>\n",
       "      <td>0.001726</td>\n",
       "    </tr>\n",
       "    <tr>\n",
       "      <th>1188</th>\n",
       "      <td>0</td>\n",
       "      <td>0.000501</td>\n",
       "      <td>0.015772</td>\n",
       "    </tr>\n",
       "    <tr>\n",
       "      <th>2798</th>\n",
       "      <td>1</td>\n",
       "      <td>0.982947</td>\n",
       "      <td>0.874089</td>\n",
       "    </tr>\n",
       "    <tr>\n",
       "      <th>518</th>\n",
       "      <td>0</td>\n",
       "      <td>0.000033</td>\n",
       "      <td>0.009832</td>\n",
       "    </tr>\n",
       "  </tbody>\n",
       "</table>\n",
       "<p>592 rows × 3 columns</p>\n",
       "</div>"
      ],
      "text/plain": [
       "      actuals  xgb_pred   nn_pred\n",
       "2012        0  0.000142  0.007421\n",
       "1688        0  0.006828  0.545954\n",
       "764         0  0.000087  0.005635\n",
       "2057        0  0.000332  0.027185\n",
       "2025        0  0.000122  0.004589\n",
       "...       ...       ...       ...\n",
       "809         0  0.000018  0.002083\n",
       "691         0  0.000025  0.001726\n",
       "1188        0  0.000501  0.015772\n",
       "2798        1  0.982947  0.874089\n",
       "518         0  0.000033  0.009832\n",
       "\n",
       "[592 rows x 3 columns]"
      ]
     },
     "execution_count": 77,
     "metadata": {},
     "output_type": "execute_result"
    }
   ],
   "source": [
    "test_df"
   ]
  },
  {
   "cell_type": "code",
   "execution_count": 78,
   "id": "22cc2713",
   "metadata": {},
   "outputs": [],
   "source": [
    "test_df['mean_prob'] = (test_df['xgb_pred'] + test_df['nn_pred']) / 2"
   ]
  },
  {
   "cell_type": "code",
   "execution_count": 79,
   "id": "7bd063e3",
   "metadata": {},
   "outputs": [],
   "source": [
    "test_df['ensemble'] = test_df['mean_prob'].round()"
   ]
  },
  {
   "cell_type": "code",
   "execution_count": 80,
   "id": "24a9d730",
   "metadata": {},
   "outputs": [
    {
     "data": {
      "text/plain": [
       "0.9527027027027027"
      ]
     },
     "execution_count": 80,
     "metadata": {},
     "output_type": "execute_result"
    }
   ],
   "source": [
    "accuracy_score(test_df['ensemble'] , test_df['actuals'])"
   ]
  },
  {
   "cell_type": "code",
   "execution_count": null,
   "id": "a82a6670",
   "metadata": {},
   "outputs": [],
   "source": []
  },
  {
   "cell_type": "markdown",
   "id": "40dfae91",
   "metadata": {},
   "source": [
    "## bi-LSTM model  without using the derived features "
   ]
  },
  {
   "cell_type": "code",
   "execution_count": 81,
   "id": "e7209f51",
   "metadata": {},
   "outputs": [],
   "source": [
    "train_lstm = X_train.drop(columns = ['Transcript_sentiment','Resume_sentiment', 'JobDescription_sentiment', 'Transcript_words',\n",
    "       'Resume_words', 'Years_Experience', 'resume_avg_word_length', 'skill_match_count','university_education_count', 'transcript_vocab_diversity',\n",
    "       'transcript_avg_sentence_length' , 'Bert_TransRes_Similarity', 'Bert_TransJobDesc_Similarity' , 'Bert_ResJobDesc_Similarity'])\n",
    "\n",
    "val_lstm = X_val.drop(columns = ['Transcript_sentiment','Resume_sentiment', 'JobDescription_sentiment', 'Transcript_words',\n",
    "       'Resume_words', 'Years_Experience', 'resume_avg_word_length', 'skill_match_count','university_education_count', 'transcript_vocab_diversity',\n",
    "       'transcript_avg_sentence_length' , 'Bert_TransRes_Similarity', 'Bert_TransJobDesc_Similarity' , 'Bert_ResJobDesc_Similarity'])\n",
    "\n",
    "test_lstm = X_test.drop(columns = ['Transcript_sentiment','Resume_sentiment', 'JobDescription_sentiment', 'Transcript_words',\n",
    "       'Resume_words', 'Years_Experience', 'resume_avg_word_length', 'skill_match_count','university_education_count', 'transcript_vocab_diversity',\n",
    "       'transcript_avg_sentence_length' , 'Bert_TransRes_Similarity', 'Bert_TransJobDesc_Similarity' , 'Bert_ResJobDesc_Similarity'])"
   ]
  },
  {
   "cell_type": "code",
   "execution_count": 82,
   "id": "e3938db3",
   "metadata": {},
   "outputs": [],
   "source": [
    "import numpy as np\n",
    "from tensorflow.keras.models import Sequential\n",
    "from tensorflow.keras.layers import LSTM, Dense, Dropout, Bidirectional\n"
   ]
  },
  {
   "cell_type": "code",
   "execution_count": 83,
   "id": "fe385847",
   "metadata": {},
   "outputs": [
    {
     "name": "stderr",
     "output_type": "stream",
     "text": [
      "c:\\Users\\heman\\AppData\\Local\\Programs\\Python\\Python312\\Lib\\site-packages\\keras\\src\\layers\\rnn\\bidirectional.py:107: UserWarning: Do not pass an `input_shape`/`input_dim` argument to a layer. When using Sequential models, prefer using an `Input(shape)` object as the first layer in the model instead.\n",
      "  super().__init__(**kwargs)\n"
     ]
    },
    {
     "data": {
      "text/html": [
       "<pre style=\"white-space:pre;overflow-x:auto;line-height:normal;font-family:Menlo,'DejaVu Sans Mono',consolas,'Courier New',monospace\"><span style=\"font-weight: bold\">Model: \"sequential_1\"</span>\n",
       "</pre>\n"
      ],
      "text/plain": [
       "\u001b[1mModel: \"sequential_1\"\u001b[0m\n"
      ]
     },
     "metadata": {},
     "output_type": "display_data"
    },
    {
     "data": {
      "text/html": [
       "<pre style=\"white-space:pre;overflow-x:auto;line-height:normal;font-family:Menlo,'DejaVu Sans Mono',consolas,'Courier New',monospace\">┏━━━━━━━━━━━━━━━━━━━━━━━━━━━━━━━━━┳━━━━━━━━━━━━━━━━━━━━━━━━┳━━━━━━━━━━━━━━━┓\n",
       "┃<span style=\"font-weight: bold\"> Layer (type)                    </span>┃<span style=\"font-weight: bold\"> Output Shape           </span>┃<span style=\"font-weight: bold\">       Param # </span>┃\n",
       "┡━━━━━━━━━━━━━━━━━━━━━━━━━━━━━━━━━╇━━━━━━━━━━━━━━━━━━━━━━━━╇━━━━━━━━━━━━━━━┩\n",
       "│ bidirectional (<span style=\"color: #0087ff; text-decoration-color: #0087ff\">Bidirectional</span>)   │ (<span style=\"color: #00d7ff; text-decoration-color: #00d7ff\">None</span>, <span style=\"color: #00af00; text-decoration-color: #00af00\">1</span>, <span style=\"color: #00af00; text-decoration-color: #00af00\">256</span>)         │     <span style=\"color: #00af00; text-decoration-color: #00af00\">2,491,392</span> │\n",
       "├─────────────────────────────────┼────────────────────────┼───────────────┤\n",
       "│ bidirectional_1 (<span style=\"color: #0087ff; text-decoration-color: #0087ff\">Bidirectional</span>) │ (<span style=\"color: #00d7ff; text-decoration-color: #00d7ff\">None</span>, <span style=\"color: #00af00; text-decoration-color: #00af00\">128</span>)            │       <span style=\"color: #00af00; text-decoration-color: #00af00\">164,352</span> │\n",
       "├─────────────────────────────────┼────────────────────────┼───────────────┤\n",
       "│ dropout_4 (<span style=\"color: #0087ff; text-decoration-color: #0087ff\">Dropout</span>)             │ (<span style=\"color: #00d7ff; text-decoration-color: #00d7ff\">None</span>, <span style=\"color: #00af00; text-decoration-color: #00af00\">128</span>)            │             <span style=\"color: #00af00; text-decoration-color: #00af00\">0</span> │\n",
       "├─────────────────────────────────┼────────────────────────┼───────────────┤\n",
       "│ dense_5 (<span style=\"color: #0087ff; text-decoration-color: #0087ff\">Dense</span>)                 │ (<span style=\"color: #00d7ff; text-decoration-color: #00d7ff\">None</span>, <span style=\"color: #00af00; text-decoration-color: #00af00\">64</span>)             │         <span style=\"color: #00af00; text-decoration-color: #00af00\">8,256</span> │\n",
       "├─────────────────────────────────┼────────────────────────┼───────────────┤\n",
       "│ dense_6 (<span style=\"color: #0087ff; text-decoration-color: #0087ff\">Dense</span>)                 │ (<span style=\"color: #00d7ff; text-decoration-color: #00d7ff\">None</span>, <span style=\"color: #00af00; text-decoration-color: #00af00\">64</span>)             │         <span style=\"color: #00af00; text-decoration-color: #00af00\">4,160</span> │\n",
       "├─────────────────────────────────┼────────────────────────┼───────────────┤\n",
       "│ dense_7 (<span style=\"color: #0087ff; text-decoration-color: #0087ff\">Dense</span>)                 │ (<span style=\"color: #00d7ff; text-decoration-color: #00d7ff\">None</span>, <span style=\"color: #00af00; text-decoration-color: #00af00\">1</span>)              │            <span style=\"color: #00af00; text-decoration-color: #00af00\">65</span> │\n",
       "└─────────────────────────────────┴────────────────────────┴───────────────┘\n",
       "</pre>\n"
      ],
      "text/plain": [
       "┏━━━━━━━━━━━━━━━━━━━━━━━━━━━━━━━━━┳━━━━━━━━━━━━━━━━━━━━━━━━┳━━━━━━━━━━━━━━━┓\n",
       "┃\u001b[1m \u001b[0m\u001b[1mLayer (type)                   \u001b[0m\u001b[1m \u001b[0m┃\u001b[1m \u001b[0m\u001b[1mOutput Shape          \u001b[0m\u001b[1m \u001b[0m┃\u001b[1m \u001b[0m\u001b[1m      Param #\u001b[0m\u001b[1m \u001b[0m┃\n",
       "┡━━━━━━━━━━━━━━━━━━━━━━━━━━━━━━━━━╇━━━━━━━━━━━━━━━━━━━━━━━━╇━━━━━━━━━━━━━━━┩\n",
       "│ bidirectional (\u001b[38;5;33mBidirectional\u001b[0m)   │ (\u001b[38;5;45mNone\u001b[0m, \u001b[38;5;34m1\u001b[0m, \u001b[38;5;34m256\u001b[0m)         │     \u001b[38;5;34m2,491,392\u001b[0m │\n",
       "├─────────────────────────────────┼────────────────────────┼───────────────┤\n",
       "│ bidirectional_1 (\u001b[38;5;33mBidirectional\u001b[0m) │ (\u001b[38;5;45mNone\u001b[0m, \u001b[38;5;34m128\u001b[0m)            │       \u001b[38;5;34m164,352\u001b[0m │\n",
       "├─────────────────────────────────┼────────────────────────┼───────────────┤\n",
       "│ dropout_4 (\u001b[38;5;33mDropout\u001b[0m)             │ (\u001b[38;5;45mNone\u001b[0m, \u001b[38;5;34m128\u001b[0m)            │             \u001b[38;5;34m0\u001b[0m │\n",
       "├─────────────────────────────────┼────────────────────────┼───────────────┤\n",
       "│ dense_5 (\u001b[38;5;33mDense\u001b[0m)                 │ (\u001b[38;5;45mNone\u001b[0m, \u001b[38;5;34m64\u001b[0m)             │         \u001b[38;5;34m8,256\u001b[0m │\n",
       "├─────────────────────────────────┼────────────────────────┼───────────────┤\n",
       "│ dense_6 (\u001b[38;5;33mDense\u001b[0m)                 │ (\u001b[38;5;45mNone\u001b[0m, \u001b[38;5;34m64\u001b[0m)             │         \u001b[38;5;34m4,160\u001b[0m │\n",
       "├─────────────────────────────────┼────────────────────────┼───────────────┤\n",
       "│ dense_7 (\u001b[38;5;33mDense\u001b[0m)                 │ (\u001b[38;5;45mNone\u001b[0m, \u001b[38;5;34m1\u001b[0m)              │            \u001b[38;5;34m65\u001b[0m │\n",
       "└─────────────────────────────────┴────────────────────────┴───────────────┘\n"
      ]
     },
     "metadata": {},
     "output_type": "display_data"
    },
    {
     "data": {
      "text/html": [
       "<pre style=\"white-space:pre;overflow-x:auto;line-height:normal;font-family:Menlo,'DejaVu Sans Mono',consolas,'Courier New',monospace\"><span style=\"font-weight: bold\"> Total params: </span><span style=\"color: #00af00; text-decoration-color: #00af00\">2,668,225</span> (10.18 MB)\n",
       "</pre>\n"
      ],
      "text/plain": [
       "\u001b[1m Total params: \u001b[0m\u001b[38;5;34m2,668,225\u001b[0m (10.18 MB)\n"
      ]
     },
     "metadata": {},
     "output_type": "display_data"
    },
    {
     "data": {
      "text/html": [
       "<pre style=\"white-space:pre;overflow-x:auto;line-height:normal;font-family:Menlo,'DejaVu Sans Mono',consolas,'Courier New',monospace\"><span style=\"font-weight: bold\"> Trainable params: </span><span style=\"color: #00af00; text-decoration-color: #00af00\">2,668,225</span> (10.18 MB)\n",
       "</pre>\n"
      ],
      "text/plain": [
       "\u001b[1m Trainable params: \u001b[0m\u001b[38;5;34m2,668,225\u001b[0m (10.18 MB)\n"
      ]
     },
     "metadata": {},
     "output_type": "display_data"
    },
    {
     "data": {
      "text/html": [
       "<pre style=\"white-space:pre;overflow-x:auto;line-height:normal;font-family:Menlo,'DejaVu Sans Mono',consolas,'Courier New',monospace\"><span style=\"font-weight: bold\"> Non-trainable params: </span><span style=\"color: #00af00; text-decoration-color: #00af00\">0</span> (0.00 B)\n",
       "</pre>\n"
      ],
      "text/plain": [
       "\u001b[1m Non-trainable params: \u001b[0m\u001b[38;5;34m0\u001b[0m (0.00 B)\n"
      ]
     },
     "metadata": {},
     "output_type": "display_data"
    },
    {
     "name": "stdout",
     "output_type": "stream",
     "text": [
      "Epoch 1/50\n",
      "\u001b[1m60/60\u001b[0m \u001b[32m━━━━━━━━━━━━━━━━━━━━\u001b[0m\u001b[37m\u001b[0m \u001b[1m14s\u001b[0m 36ms/step - accuracy: 0.6055 - loss: 0.6121 - val_accuracy: 0.7574 - val_loss: 0.4362\n",
      "Epoch 2/50\n",
      "\u001b[1m60/60\u001b[0m \u001b[32m━━━━━━━━━━━━━━━━━━━━\u001b[0m\u001b[37m\u001b[0m \u001b[1m1s\u001b[0m 13ms/step - accuracy: 0.8184 - loss: 0.3439 - val_accuracy: 0.8017 - val_loss: 0.3269\n",
      "Epoch 3/50\n",
      "\u001b[1m60/60\u001b[0m \u001b[32m━━━━━━━━━━━━━━━━━━━━\u001b[0m\u001b[37m\u001b[0m \u001b[1m1s\u001b[0m 13ms/step - accuracy: 0.8152 - loss: 0.3047 - val_accuracy: 0.7764 - val_loss: 0.4381\n",
      "Epoch 4/50\n",
      "\u001b[1m60/60\u001b[0m \u001b[32m━━━━━━━━━━━━━━━━━━━━\u001b[0m\u001b[37m\u001b[0m \u001b[1m1s\u001b[0m 13ms/step - accuracy: 0.8044 - loss: 0.3063 - val_accuracy: 0.8059 - val_loss: 0.3129\n",
      "Epoch 5/50\n",
      "\u001b[1m60/60\u001b[0m \u001b[32m━━━━━━━━━━━━━━━━━━━━\u001b[0m\u001b[37m\u001b[0m \u001b[1m1s\u001b[0m 14ms/step - accuracy: 0.8343 - loss: 0.2700 - val_accuracy: 0.7489 - val_loss: 0.4470\n",
      "Epoch 6/50\n",
      "\u001b[1m60/60\u001b[0m \u001b[32m━━━━━━━━━━━━━━━━━━━━\u001b[0m\u001b[37m\u001b[0m \u001b[1m1s\u001b[0m 13ms/step - accuracy: 0.8236 - loss: 0.2760 - val_accuracy: 0.8101 - val_loss: 0.2887\n",
      "Epoch 7/50\n",
      "\u001b[1m60/60\u001b[0m \u001b[32m━━━━━━━━━━━━━━━━━━━━\u001b[0m\u001b[37m\u001b[0m \u001b[1m1s\u001b[0m 13ms/step - accuracy: 0.8242 - loss: 0.2597 - val_accuracy: 0.7722 - val_loss: 0.3534\n",
      "Epoch 8/50\n",
      "\u001b[1m60/60\u001b[0m \u001b[32m━━━━━━━━━━━━━━━━━━━━\u001b[0m\u001b[37m\u001b[0m \u001b[1m1s\u001b[0m 13ms/step - accuracy: 0.8236 - loss: 0.2939 - val_accuracy: 0.7932 - val_loss: 0.2923\n",
      "Epoch 9/50\n",
      "\u001b[1m60/60\u001b[0m \u001b[32m━━━━━━━━━━━━━━━━━━━━\u001b[0m\u001b[37m\u001b[0m \u001b[1m1s\u001b[0m 14ms/step - accuracy: 0.8243 - loss: 0.2662 - val_accuracy: 0.8017 - val_loss: 0.2957\n",
      "Epoch 10/50\n",
      "\u001b[1m60/60\u001b[0m \u001b[32m━━━━━━━━━━━━━━━━━━━━\u001b[0m\u001b[37m\u001b[0m \u001b[1m1s\u001b[0m 15ms/step - accuracy: 0.8363 - loss: 0.2592 - val_accuracy: 0.7911 - val_loss: 0.2935\n",
      "Epoch 11/50\n",
      "\u001b[1m60/60\u001b[0m \u001b[32m━━━━━━━━━━━━━━━━━━━━\u001b[0m\u001b[37m\u001b[0m \u001b[1m1s\u001b[0m 14ms/step - accuracy: 0.8414 - loss: 0.2458 - val_accuracy: 0.8143 - val_loss: 0.2847\n",
      "Epoch 12/50\n",
      "\u001b[1m60/60\u001b[0m \u001b[32m━━━━━━━━━━━━━━━━━━━━\u001b[0m\u001b[37m\u001b[0m \u001b[1m1s\u001b[0m 14ms/step - accuracy: 0.8332 - loss: 0.2462 - val_accuracy: 0.7785 - val_loss: 0.2832\n",
      "Epoch 13/50\n",
      "\u001b[1m60/60\u001b[0m \u001b[32m━━━━━━━━━━━━━━━━━━━━\u001b[0m\u001b[37m\u001b[0m \u001b[1m1s\u001b[0m 15ms/step - accuracy: 0.8374 - loss: 0.2508 - val_accuracy: 0.7869 - val_loss: 0.3624\n",
      "Epoch 14/50\n",
      "\u001b[1m60/60\u001b[0m \u001b[32m━━━━━━━━━━━━━━━━━━━━\u001b[0m\u001b[37m\u001b[0m \u001b[1m1s\u001b[0m 15ms/step - accuracy: 0.8366 - loss: 0.2683 - val_accuracy: 0.8017 - val_loss: 0.3021\n",
      "Epoch 15/50\n",
      "\u001b[1m60/60\u001b[0m \u001b[32m━━━━━━━━━━━━━━━━━━━━\u001b[0m\u001b[37m\u001b[0m \u001b[1m1s\u001b[0m 19ms/step - accuracy: 0.8449 - loss: 0.2432 - val_accuracy: 0.7911 - val_loss: 0.2911\n",
      "Epoch 16/50\n",
      "\u001b[1m60/60\u001b[0m \u001b[32m━━━━━━━━━━━━━━━━━━━━\u001b[0m\u001b[37m\u001b[0m \u001b[1m2s\u001b[0m 37ms/step - accuracy: 0.8193 - loss: 0.2566 - val_accuracy: 0.7806 - val_loss: 0.3168\n",
      "Epoch 17/50\n",
      "\u001b[1m60/60\u001b[0m \u001b[32m━━━━━━━━━━━━━━━━━━━━\u001b[0m\u001b[37m\u001b[0m \u001b[1m2s\u001b[0m 38ms/step - accuracy: 0.8424 - loss: 0.2504 - val_accuracy: 0.8249 - val_loss: 0.2778\n",
      "Epoch 18/50\n",
      "\u001b[1m60/60\u001b[0m \u001b[32m━━━━━━━━━━━━━━━━━━━━\u001b[0m\u001b[37m\u001b[0m \u001b[1m2s\u001b[0m 38ms/step - accuracy: 0.8365 - loss: 0.2437 - val_accuracy: 0.7785 - val_loss: 0.3249\n",
      "Epoch 19/50\n",
      "\u001b[1m60/60\u001b[0m \u001b[32m━━━━━━━━━━━━━━━━━━━━\u001b[0m\u001b[37m\u001b[0m \u001b[1m3s\u001b[0m 41ms/step - accuracy: 0.8428 - loss: 0.2472 - val_accuracy: 0.7932 - val_loss: 0.2887\n",
      "Epoch 20/50\n",
      "\u001b[1m60/60\u001b[0m \u001b[32m━━━━━━━━━━━━━━━━━━━━\u001b[0m\u001b[37m\u001b[0m \u001b[1m1s\u001b[0m 14ms/step - accuracy: 0.8268 - loss: 0.2852 - val_accuracy: 0.8017 - val_loss: 0.3030\n",
      "Epoch 21/50\n",
      "\u001b[1m60/60\u001b[0m \u001b[32m━━━━━━━━━━━━━━━━━━━━\u001b[0m\u001b[37m\u001b[0m \u001b[1m1s\u001b[0m 14ms/step - accuracy: 0.8453 - loss: 0.2494 - val_accuracy: 0.7827 - val_loss: 0.3056\n",
      "Epoch 22/50\n",
      "\u001b[1m60/60\u001b[0m \u001b[32m━━━━━━━━━━━━━━━━━━━━\u001b[0m\u001b[37m\u001b[0m \u001b[1m1s\u001b[0m 13ms/step - accuracy: 0.8126 - loss: 0.2528 - val_accuracy: 0.7869 - val_loss: 0.3152\n",
      "Epoch 23/50\n",
      "\u001b[1m60/60\u001b[0m \u001b[32m━━━━━━━━━━━━━━━━━━━━\u001b[0m\u001b[37m\u001b[0m \u001b[1m1s\u001b[0m 13ms/step - accuracy: 0.8352 - loss: 0.2470 - val_accuracy: 0.7954 - val_loss: 0.3423\n",
      "Epoch 24/50\n",
      "\u001b[1m60/60\u001b[0m \u001b[32m━━━━━━━━━━━━━━━━━━━━\u001b[0m\u001b[37m\u001b[0m \u001b[1m1s\u001b[0m 14ms/step - accuracy: 0.8221 - loss: 0.2682 - val_accuracy: 0.7743 - val_loss: 0.3297\n",
      "Epoch 25/50\n",
      "\u001b[1m60/60\u001b[0m \u001b[32m━━━━━━━━━━━━━━━━━━━━\u001b[0m\u001b[37m\u001b[0m \u001b[1m1s\u001b[0m 13ms/step - accuracy: 0.8363 - loss: 0.2551 - val_accuracy: 0.7595 - val_loss: 0.3807\n",
      "Epoch 26/50\n",
      "\u001b[1m60/60\u001b[0m \u001b[32m━━━━━━━━━━━━━━━━━━━━\u001b[0m\u001b[37m\u001b[0m \u001b[1m1s\u001b[0m 14ms/step - accuracy: 0.8461 - loss: 0.2497 - val_accuracy: 0.7700 - val_loss: 0.3203\n",
      "Epoch 27/50\n",
      "\u001b[1m60/60\u001b[0m \u001b[32m━━━━━━━━━━━━━━━━━━━━\u001b[0m\u001b[37m\u001b[0m \u001b[1m1s\u001b[0m 14ms/step - accuracy: 0.8349 - loss: 0.2675 - val_accuracy: 0.7806 - val_loss: 0.3444\n",
      "Epoch 28/50\n",
      "\u001b[1m60/60\u001b[0m \u001b[32m━━━━━━━━━━━━━━━━━━━━\u001b[0m\u001b[37m\u001b[0m \u001b[1m1s\u001b[0m 13ms/step - accuracy: 0.8390 - loss: 0.2363 - val_accuracy: 0.7932 - val_loss: 0.2848\n",
      "Epoch 29/50\n",
      "\u001b[1m60/60\u001b[0m \u001b[32m━━━━━━━━━━━━━━━━━━━━\u001b[0m\u001b[37m\u001b[0m \u001b[1m1s\u001b[0m 14ms/step - accuracy: 0.8502 - loss: 0.2397 - val_accuracy: 0.8122 - val_loss: 0.2956\n",
      "Epoch 30/50\n",
      "\u001b[1m60/60\u001b[0m \u001b[32m━━━━━━━━━━━━━━━━━━━━\u001b[0m\u001b[37m\u001b[0m \u001b[1m1s\u001b[0m 13ms/step - accuracy: 0.8435 - loss: 0.2412 - val_accuracy: 0.8207 - val_loss: 0.2798\n",
      "Epoch 31/50\n",
      "\u001b[1m60/60\u001b[0m \u001b[32m━━━━━━━━━━━━━━━━━━━━\u001b[0m\u001b[37m\u001b[0m \u001b[1m1s\u001b[0m 13ms/step - accuracy: 0.8321 - loss: 0.2537 - val_accuracy: 0.8165 - val_loss: 0.2944\n",
      "Epoch 32/50\n",
      "\u001b[1m60/60\u001b[0m \u001b[32m━━━━━━━━━━━━━━━━━━━━\u001b[0m\u001b[37m\u001b[0m \u001b[1m1s\u001b[0m 13ms/step - accuracy: 0.8310 - loss: 0.2429 - val_accuracy: 0.7890 - val_loss: 0.2837\n",
      "Epoch 33/50\n",
      "\u001b[1m60/60\u001b[0m \u001b[32m━━━━━━━━━━━━━━━━━━━━\u001b[0m\u001b[37m\u001b[0m \u001b[1m1s\u001b[0m 13ms/step - accuracy: 0.8437 - loss: 0.2383 - val_accuracy: 0.7806 - val_loss: 0.2919\n",
      "Epoch 34/50\n",
      "\u001b[1m60/60\u001b[0m \u001b[32m━━━━━━━━━━━━━━━━━━━━\u001b[0m\u001b[37m\u001b[0m \u001b[1m1s\u001b[0m 13ms/step - accuracy: 0.8547 - loss: 0.2475 - val_accuracy: 0.8080 - val_loss: 0.2923\n",
      "Epoch 35/50\n",
      "\u001b[1m60/60\u001b[0m \u001b[32m━━━━━━━━━━━━━━━━━━━━\u001b[0m\u001b[37m\u001b[0m \u001b[1m1s\u001b[0m 13ms/step - accuracy: 0.8558 - loss: 0.2258 - val_accuracy: 0.7890 - val_loss: 0.3071\n",
      "Epoch 36/50\n",
      "\u001b[1m60/60\u001b[0m \u001b[32m━━━━━━━━━━━━━━━━━━━━\u001b[0m\u001b[37m\u001b[0m \u001b[1m1s\u001b[0m 13ms/step - accuracy: 0.8498 - loss: 0.2516 - val_accuracy: 0.8017 - val_loss: 0.3134\n",
      "Epoch 37/50\n",
      "\u001b[1m60/60\u001b[0m \u001b[32m━━━━━━━━━━━━━━━━━━━━\u001b[0m\u001b[37m\u001b[0m \u001b[1m1s\u001b[0m 13ms/step - accuracy: 0.8520 - loss: 0.2370 - val_accuracy: 0.7764 - val_loss: 0.2979\n",
      "Epoch 38/50\n",
      "\u001b[1m60/60\u001b[0m \u001b[32m━━━━━━━━━━━━━━━━━━━━\u001b[0m\u001b[37m\u001b[0m \u001b[1m1s\u001b[0m 13ms/step - accuracy: 0.8234 - loss: 0.2437 - val_accuracy: 0.8165 - val_loss: 0.2856\n",
      "Epoch 39/50\n",
      "\u001b[1m60/60\u001b[0m \u001b[32m━━━━━━━━━━━━━━━━━━━━\u001b[0m\u001b[37m\u001b[0m \u001b[1m1s\u001b[0m 14ms/step - accuracy: 0.8701 - loss: 0.2123 - val_accuracy: 0.8122 - val_loss: 0.2737\n",
      "Epoch 40/50\n",
      "\u001b[1m60/60\u001b[0m \u001b[32m━━━━━━━━━━━━━━━━━━━━\u001b[0m\u001b[37m\u001b[0m \u001b[1m1s\u001b[0m 13ms/step - accuracy: 0.8553 - loss: 0.2345 - val_accuracy: 0.7827 - val_loss: 0.3033\n",
      "Epoch 41/50\n",
      "\u001b[1m60/60\u001b[0m \u001b[32m━━━━━━━━━━━━━━━━━━━━\u001b[0m\u001b[37m\u001b[0m \u001b[1m1s\u001b[0m 13ms/step - accuracy: 0.8439 - loss: 0.2497 - val_accuracy: 0.7827 - val_loss: 0.4360\n",
      "Epoch 42/50\n",
      "\u001b[1m60/60\u001b[0m \u001b[32m━━━━━━━━━━━━━━━━━━━━\u001b[0m\u001b[37m\u001b[0m \u001b[1m1s\u001b[0m 13ms/step - accuracy: 0.8181 - loss: 0.2778 - val_accuracy: 0.7932 - val_loss: 0.2915\n",
      "Epoch 43/50\n",
      "\u001b[1m60/60\u001b[0m \u001b[32m━━━━━━━━━━━━━━━━━━━━\u001b[0m\u001b[37m\u001b[0m \u001b[1m1s\u001b[0m 13ms/step - accuracy: 0.8484 - loss: 0.2385 - val_accuracy: 0.7785 - val_loss: 0.3026\n",
      "Epoch 44/50\n",
      "\u001b[1m60/60\u001b[0m \u001b[32m━━━━━━━━━━━━━━━━━━━━\u001b[0m\u001b[37m\u001b[0m \u001b[1m1s\u001b[0m 13ms/step - accuracy: 0.8543 - loss: 0.2358 - val_accuracy: 0.8291 - val_loss: 0.2797\n",
      "Epoch 45/50\n",
      "\u001b[1m60/60\u001b[0m \u001b[32m━━━━━━━━━━━━━━━━━━━━\u001b[0m\u001b[37m\u001b[0m \u001b[1m1s\u001b[0m 13ms/step - accuracy: 0.8415 - loss: 0.2545 - val_accuracy: 0.7848 - val_loss: 0.2970\n",
      "Epoch 46/50\n",
      "\u001b[1m60/60\u001b[0m \u001b[32m━━━━━━━━━━━━━━━━━━━━\u001b[0m\u001b[37m\u001b[0m \u001b[1m1s\u001b[0m 14ms/step - accuracy: 0.8458 - loss: 0.2454 - val_accuracy: 0.7722 - val_loss: 0.3381\n",
      "Epoch 47/50\n",
      "\u001b[1m60/60\u001b[0m \u001b[32m━━━━━━━━━━━━━━━━━━━━\u001b[0m\u001b[37m\u001b[0m \u001b[1m1s\u001b[0m 14ms/step - accuracy: 0.8462 - loss: 0.2512 - val_accuracy: 0.7595 - val_loss: 0.3102\n",
      "Epoch 48/50\n",
      "\u001b[1m60/60\u001b[0m \u001b[32m━━━━━━━━━━━━━━━━━━━━\u001b[0m\u001b[37m\u001b[0m \u001b[1m1s\u001b[0m 14ms/step - accuracy: 0.8419 - loss: 0.2472 - val_accuracy: 0.7869 - val_loss: 0.2941\n",
      "Epoch 49/50\n",
      "\u001b[1m60/60\u001b[0m \u001b[32m━━━━━━━━━━━━━━━━━━━━\u001b[0m\u001b[37m\u001b[0m \u001b[1m1s\u001b[0m 14ms/step - accuracy: 0.8436 - loss: 0.2352 - val_accuracy: 0.7806 - val_loss: 0.3006\n",
      "Epoch 50/50\n",
      "\u001b[1m60/60\u001b[0m \u001b[32m━━━━━━━━━━━━━━━━━━━━\u001b[0m\u001b[37m\u001b[0m \u001b[1m1s\u001b[0m 13ms/step - accuracy: 0.8427 - loss: 0.2420 - val_accuracy: 0.7932 - val_loss: 0.2836\n"
     ]
    }
   ],
   "source": [
    "# Reshape the input to add a \"timesteps\" dimension\n",
    "train_lstm_reshaped = train_lstm.values.reshape((train_lstm.shape[0], 1, train_lstm.shape[1]))\n",
    "val_lstm_reshaped = val_lstm.values.reshape((val_lstm.shape[0], 1, val_lstm.shape[1]))\n",
    "\n",
    "# Build the Bi-LSTM model\n",
    "model4 = Sequential()\n",
    "model4.add(Bidirectional(LSTM(128, return_sequences=True), input_shape=(1, train_lstm.shape[1])))  # First Bi-LSTM layer\n",
    "model4.add(Bidirectional(LSTM(64, return_sequences=False)))  # Second Bi-LSTM layer\n",
    "model4.add(Dropout(0.3))  # Dropout for regularization\n",
    "model4.add(Dense(64, activation='relu'))  # Fully connected layer\n",
    "model4.add(Dense(64, activation='relu'))  # Another fully connected layer\n",
    "model4.add(Dense(1, activation='sigmoid'))  # Output layer for binary classification\n",
    "\n",
    "# Compile the model\n",
    "model4.compile(optimizer='adam', loss='binary_crossentropy', metrics=['accuracy'])\n",
    "\n",
    "# Print model summary\n",
    "model4.summary()\n",
    "\n",
    "# Train the model with reshaped data\n",
    "history = model4.fit(\n",
    "    train_lstm_reshaped, y_train,\n",
    "    epochs=50,\n",
    "    batch_size=32,\n",
    "    validation_data=(val_lstm_reshaped, y_val)\n",
    ")\n"
   ]
  },
  {
   "cell_type": "code",
   "execution_count": 86,
   "id": "705474c8",
   "metadata": {},
   "outputs": [
    {
     "data": {
      "image/png": "[encoded data removed]",
      "text/plain": [
       "<Figure size 640x480 with 1 Axes>"
      ]
     },
     "metadata": {},
     "output_type": "display_data"
    }
   ],
   "source": [
    "plt.plot(history.history['val_accuracy'])\n",
    "plt.title(\"Validation Accuracy over the epochs using BI-LSTM-Dense Architecture\")\n",
    "plt.show()"
   ]
  },
  {
   "cell_type": "code",
   "execution_count": 87,
   "id": "d3c3dedd",
   "metadata": {},
   "outputs": [
    {
     "data": {
      "image/png": "[encoded data removed]",
      "text/plain": [
       "<Figure size 640x480 with 1 Axes>"
      ]
     },
     "metadata": {},
     "output_type": "display_data"
    }
   ],
   "source": [
    "plt.plot(history.history['accuracy'])\n",
    "plt.title(\"Training Accuracy over the epochs using BI-LSTM-Dense Architecture\")\n",
    "plt.show()"
   ]
  },
  {
   "cell_type": "code",
   "execution_count": 104,
   "id": "8e0496da",
   "metadata": {},
   "outputs": [],
   "source": [
    "## Reshaping the test data for giving to LSTM\n",
    "test_lstm_reshaped = test_lstm.values.reshape((test_lstm.shape[0], 1, test_lstm.shape[1])) "
   ]
  },
  {
   "cell_type": "code",
   "execution_count": 105,
   "id": "6cbcc2c3",
   "metadata": {},
   "outputs": [
    {
     "name": "stdout",
     "output_type": "stream",
     "text": [
      "\u001b[1m19/19\u001b[0m \u001b[32m━━━━━━━━━━━━━━━━━━━━\u001b[0m\u001b[37m\u001b[0m \u001b[1m0s\u001b[0m 3ms/step \n"
     ]
    }
   ],
   "source": [
    "lstm_preds = model4.predict(test_lstm_reshaped)"
   ]
  },
  {
   "cell_type": "code",
   "execution_count": 154,
   "id": "7af18d25",
   "metadata": {},
   "outputs": [],
   "source": [
    "## Ensemble for 3 models "
   ]
  },
  {
   "cell_type": "code",
   "execution_count": 90,
   "id": "5dbde49b",
   "metadata": {},
   "outputs": [],
   "source": [
    "preds_df = test_df.copy()"
   ]
  },
  {
   "cell_type": "code",
   "execution_count": 91,
   "id": "4283be80",
   "metadata": {},
   "outputs": [
    {
     "data": {
      "text/plain": [
       "Index(['actuals', 'xgb_pred', 'nn_pred', 'mean_prob', 'ensemble'], dtype='object')"
      ]
     },
     "execution_count": 91,
     "metadata": {},
     "output_type": "execute_result"
    }
   ],
   "source": [
    "preds_df.columns"
   ]
  },
  {
   "cell_type": "code",
   "execution_count": 106,
   "id": "537deba6",
   "metadata": {},
   "outputs": [],
   "source": [
    "## Creating the new frame with only xgb_preds , nn_preds , lstm_preds , actuals \n",
    "preds_df = preds_df[['actuals','xgb_pred','nn_pred']]\n",
    "preds_df['bi-lstm_pred'] = lstm_preds"
   ]
  },
  {
   "cell_type": "code",
   "execution_count": 107,
   "id": "e0d26e6a",
   "metadata": {},
   "outputs": [
    {
     "data": {
      "text/html": [
       "<div>\n",
       "<style scoped>\n",
       "    .dataframe tbody tr th:only-of-type {\n",
       "        vertical-align: middle;\n",
       "    }\n",
       "\n",
       "    .dataframe tbody tr th {\n",
       "        vertical-align: top;\n",
       "    }\n",
       "\n",
       "    .dataframe thead th {\n",
       "        text-align: right;\n",
       "    }\n",
       "</style>\n",
       "<table border=\"1\" class=\"dataframe\">\n",
       "  <thead>\n",
       "    <tr style=\"text-align: right;\">\n",
       "      <th></th>\n",
       "      <th>actuals</th>\n",
       "      <th>xgb_pred</th>\n",
       "      <th>nn_pred</th>\n",
       "      <th>bi-lstm_pred</th>\n",
       "    </tr>\n",
       "  </thead>\n",
       "  <tbody>\n",
       "    <tr>\n",
       "      <th>2012</th>\n",
       "      <td>0</td>\n",
       "      <td>0.000142</td>\n",
       "      <td>0.007421</td>\n",
       "      <td>0.000091</td>\n",
       "    </tr>\n",
       "    <tr>\n",
       "      <th>1688</th>\n",
       "      <td>0</td>\n",
       "      <td>0.006828</td>\n",
       "      <td>0.545954</td>\n",
       "      <td>0.529866</td>\n",
       "    </tr>\n",
       "    <tr>\n",
       "      <th>764</th>\n",
       "      <td>0</td>\n",
       "      <td>0.000087</td>\n",
       "      <td>0.005635</td>\n",
       "      <td>0.000064</td>\n",
       "    </tr>\n",
       "    <tr>\n",
       "      <th>2057</th>\n",
       "      <td>0</td>\n",
       "      <td>0.000332</td>\n",
       "      <td>0.027185</td>\n",
       "      <td>0.000305</td>\n",
       "    </tr>\n",
       "    <tr>\n",
       "      <th>2025</th>\n",
       "      <td>0</td>\n",
       "      <td>0.000122</td>\n",
       "      <td>0.004589</td>\n",
       "      <td>0.000285</td>\n",
       "    </tr>\n",
       "  </tbody>\n",
       "</table>\n",
       "</div>"
      ],
      "text/plain": [
       "      actuals  xgb_pred   nn_pred  bi-lstm_pred\n",
       "2012        0  0.000142  0.007421      0.000091\n",
       "1688        0  0.006828  0.545954      0.529866\n",
       "764         0  0.000087  0.005635      0.000064\n",
       "2057        0  0.000332  0.027185      0.000305\n",
       "2025        0  0.000122  0.004589      0.000285"
      ]
     },
     "execution_count": 107,
     "metadata": {},
     "output_type": "execute_result"
    }
   ],
   "source": [
    "preds_df.head()"
   ]
  },
  {
   "cell_type": "code",
   "execution_count": 108,
   "id": "416e5f8e",
   "metadata": {},
   "outputs": [],
   "source": [
    "## Building 2 different types of ensembles \n",
    "#       1. Maximum Voting Classifier \n",
    "#       2. Average Prediction classifier "
   ]
  },
  {
   "cell_type": "code",
   "execution_count": 110,
   "id": "53a2a608",
   "metadata": {},
   "outputs": [],
   "source": [
    "preds_df['xgb_class'] = (preds_df['xgb_pred'] > 0.5).astype(int)\n",
    "preds_df['nn_class'] = (preds_df['nn_pred'] > 0.5).astype(int)\n",
    "preds_df['bi-lstm_class'] = (preds_df['bi-lstm_pred'] > 0.5).astype(int)"
   ]
  },
  {
   "cell_type": "code",
   "execution_count": 111,
   "id": "0880283a",
   "metadata": {},
   "outputs": [],
   "source": [
    "preds_df['max_vote_class'] = preds_df[['xgb_class', 'nn_class', 'bi-lstm_class']].mode(axis=1)[0]"
   ]
  },
  {
   "cell_type": "code",
   "execution_count": null,
   "id": "ba0b629c",
   "metadata": {},
   "outputs": [],
   "source": [
    "accuracy = accuracy_score(preds_df['actuals'], preds_df['max_vote_class'])\n",
    "print(f\"Final Accuracy: {accuracy}\")"
   ]
  },
  {
   "cell_type": "code",
   "execution_count": 114,
   "id": "45538647",
   "metadata": {},
   "outputs": [],
   "source": [
    "# Average voting classifier \n",
    "preds_df['mean_prob'] = (preds_df['xgb_pred'] + preds_df['nn_pred'] + preds_df['bi-lstm_pred'])/3"
   ]
  },
  {
   "cell_type": "code",
   "execution_count": 115,
   "id": "987bcc38",
   "metadata": {},
   "outputs": [],
   "source": [
    "preds_df['mean_class'] = preds_df['mean_prob'].round()"
   ]
  },
  {
   "cell_type": "code",
   "execution_count": null,
   "id": "81d7a41c",
   "metadata": {},
   "outputs": [],
   "source": [
    "accuracy = accuracy_score(preds_df['actuals'], preds_df['mean_class'])\n",
    "print(f\"Final Accuracy: {accuracy}\")"
   ]
  }
 ],
 "metadata": {
  "kernelspec": {
   "display_name": "Python 3 (ipykernel)",
   "language": "python",
   "name": "python3"
  },
  "language_info": {
   "codemirror_mode": {
    "name": "ipython",
    "version": 3
   },
   "file_extension": ".py",
   "mimetype": "text/x-python",
   "name": "python",
   "nbconvert_exporter": "python",
   "pygments_lexer": "ipython3",
   "version": "3.9.12"
  }
 },
 "nbformat": 4,
 "nbformat_minor": 5
}
